{
 "cells": [
  {
   "cell_type": "markdown",
   "metadata": {},
   "source": [
    "# Pytorch homework\n",
    "## 作業說明\n",
    "這次的作業總共有5個部份，在每一個部份會有一些被註解框起來的區塊需要完成。\n",
    "1. Preparation: 我們會利用CIFAR-10 dataset **(10%)**\n",
    "2. Pytorch Module API: 在這邊我們會利用 nn.Module 建構出簡單的CNN（CNN架構請參照我們所提供） **(20%)**\n",
    "3. Pytorch ModuleList API: 在這邊我們 nn.ModuleList 以及 nn.Module來建構出簡單的CNN（CNN架構請參照我們所提供） **(20%)**\n",
    "4. Pytorch Sequential API: 在這邊我們 nn.Sequential 來建構出簡單的CNN（CNN架構請參照我們所提供） **(20%)**\n",
    "5. CIFAR-10 open-ended challenge: 在這邊請大家建構屬於自己的CNN，並且盡量的得到高準確度，並解釋如何建構的 **(30%)**\n",
    "    * 可以嘗試建構任意的layer, optimizer或是 hyperparameters等\n",
    "    * 由於並不是所有同學都有GPU可以提供training，因此這題分數的分配不是根據最後的準確度而給分，而是達到baseline之後便會給於全部的分數\n",
    "    * **Baseline: 65% on testing data**\n",
    "    \n",
    "## 作業繳交\n",
    "* Deadline : 11/06 中午12:00\n",
    "    * **遲交一天的打7折**\n",
    "    * **遲交一天以上的打5折**\n",
    "* 繳交方式 : 請繳交這個ipynb檔至moodle\n",
    "* 作業命名 : (你的學號)\\_(姓名)\\_hw2.ipynb  (ex.F71112222_人工智.ipynb) \n",
    "    * **格式不對的話會扣10分！！！**\n",
    "* 有任何問題歡迎寄信至我的信箱\n",
    "    * 黃顯堯 e0928021388@gmail.com\n"
   ]
  },
  {
   "cell_type": "markdown",
   "metadata": {},
   "source": [
    "## Part1 Preparation"
   ]
  },
  {
   "cell_type": "code",
   "execution_count": 10,
   "metadata": {},
   "outputs": [],
   "source": [
    "import torch\n",
    "import torch.nn as nn\n",
    "import torch.nn.functional as F\n",
    "\n",
    "import torch.optim as optim\n",
    "from torch.utils.data import DataLoader\n",
    "from torch.utils.data.sampler import SubsetRandomSampler\n",
    "\n",
    "import torchvision.datasets as datasets\n",
    "import torchvision.transforms as transforms\n",
    "\n",
    "import numpy as np\n",
    "import os\n",
    "from sys import platform\n",
    "\n",
    "from torchviz import make_dot, make_dot_from_trace"
   ]
  },
  {
   "cell_type": "markdown",
   "metadata": {},
   "source": [
    "### Setting\n",
    "你可以根據需求調整epochs, batch size等等的參數"
   ]
  },
  {
   "cell_type": "code",
   "execution_count": 11,
   "metadata": {},
   "outputs": [],
   "source": [
    "CIFAR_MEAN = [0.49139968, 0.48215827, 0.44653124]\n",
    "CIFAR_STD = [0.2023, 0.1994, 0.2010]\n",
    "\n",
    "EPOCHS = 5\n",
    "BATCH_SIZE = 64\n",
    "PRINT_FREQ = 100\n",
    "TRAIN_NUMS = 49000\n",
    "\n",
    "CUDA = False\n",
    "\n",
    "PATH_TO_SAVE_DATA = \"./\"\n",
    "\n",
    "# I add this to make sure the Graphviz executables are on my systems' PATH\n",
    "if platform == \"win32\":\n",
    "    os.environ['PATH'] += os.pathsep + \"./Graphviz/bin/\""
   ]
  },
  {
   "cell_type": "markdown",
   "metadata": {},
   "source": [
    "### Load CIFAR-10 dataset"
   ]
  },
  {
   "cell_type": "code",
   "execution_count": 12,
   "metadata": {},
   "outputs": [
    {
     "name": "stdout",
     "output_type": "stream",
     "text": "Files already downloaded and verified\nFiles already downloaded and verified\n"
    }
   ],
   "source": [
    "data_transform = transforms.Compose([\n",
    "                      transforms.ToTensor(),\n",
    "                      transforms.Normalize(CIFAR_MEAN, CIFAR_STD)\n",
    "                  ])\n",
    "\n",
    "train_data = datasets.CIFAR10(root=PATH_TO_SAVE_DATA, train=True,\n",
    "                              download=True, transform=data_transform)\n",
    "train_loader = DataLoader(train_data, batch_size=BATCH_SIZE,\n",
    "                          sampler=SubsetRandomSampler(range(TRAIN_NUMS)))\n",
    "val_loader = DataLoader(train_data, batch_size=BATCH_SIZE,\n",
    "                        sampler=SubsetRandomSampler(range(TRAIN_NUMS, 50000)))\n",
    "\n",
    "\n",
    "\n",
    "test_data = datasets.CIFAR10(root=PATH_TO_SAVE_DATA, train=False,\n",
    "                             download=True, transform=data_transform)\n",
    "test_loader = DataLoader(test_data, batch_size=BATCH_SIZE)"
   ]
  },
  {
   "cell_type": "markdown",
   "metadata": {},
   "source": [
    "### GPU setting\n",
    "可以根據選擇是否要使用gpu，在本次的作業沒有一定要使用到gpu，假如你沒有安裝cuda，torch.cuda.is_available會return False"
   ]
  },
  {
   "cell_type": "code",
   "execution_count": 13,
   "metadata": {},
   "outputs": [
    {
     "name": "stdout",
     "output_type": "stream",
     "text": "cpu\n"
    }
   ],
   "source": [
    "if CUDA:\n",
    "    device = torch.device(\"cuda\" if torch.cuda.is_available() else \"cpu\")\n",
    "else:\n",
    "    device = torch.device(\"cpu\")\n",
    "print(device)"
   ]
  },
  {
   "cell_type": "markdown",
   "metadata": {},
   "source": [
    "### Trainer\n",
    "我們有提供Trainer讓同學可以training自己建構的model"
   ]
  },
  {
   "cell_type": "code",
   "execution_count": 14,
   "metadata": {},
   "outputs": [],
   "source": [
    "class Trainer:\n",
    "    def __init__(self, criterion, optimizer, device):\n",
    "        self.criterion = criterion\n",
    "        self.optimizer = optimizer\n",
    "        \n",
    "        self.device = device\n",
    "        \n",
    "    def train_loop(self, model, train_loader, val_loader):\n",
    "        for epoch in range(EPOCHS):\n",
    "            print(\"---------------- Epoch {} ----------------\".format(epoch))\n",
    "            self._training_step(model, train_loader, epoch)\n",
    "            \n",
    "            self._validate(model, val_loader, epoch)\n",
    "    \n",
    "    def test(self, model, test_loader):\n",
    "            print(\"---------------- Testing ----------------\")\n",
    "            self._validate(model, test_loader, 0, state=\"Testing\")\n",
    "            \n",
    "    def _training_step(self, model, loader, epoch):\n",
    "        model.train()\n",
    "        \n",
    "        for step, (X, y) in enumerate(loader):\n",
    "            X, y = X.to(self.device), y.to(self.device)\n",
    "            N = X.shape[0]\n",
    "            \n",
    "            self.optimizer.zero_grad()\n",
    "            outs = model(X)\n",
    "            loss = self.criterion(outs, y)\n",
    "            \n",
    "            if step >= 0 and (step % PRINT_FREQ == 0):\n",
    "                self._state_logging(outs, y, loss, step, epoch, \"Training\")\n",
    "            \n",
    "            loss.backward()\n",
    "            self.optimizer.step()\n",
    "            \n",
    "    def _validate(self, model, loader, epoch, state=\"Validate\"):\n",
    "        model.eval()\n",
    "        outs_list = []\n",
    "        loss_list = []\n",
    "        y_list = []\n",
    "        \n",
    "        with torch.no_grad():\n",
    "            for step, (X, y) in enumerate(loader):\n",
    "                X, y = X.to(self.device), y.to(self.device)\n",
    "                N = X.shape[0]\n",
    "                \n",
    "                outs = model(X)\n",
    "                loss = self.criterion(outs, y)\n",
    "                \n",
    "                y_list.append(y)\n",
    "                outs_list.append(outs)\n",
    "                loss_list.append(loss)\n",
    "            \n",
    "            y = torch.cat(y_list)\n",
    "            outs = torch.cat(outs_list)\n",
    "            loss = torch.mean(torch.stack(loss_list), dim=0)\n",
    "            self._state_logging(outs, y, loss, step, epoch, state)\n",
    "                \n",
    "                \n",
    "    def _state_logging(self, outs, y, loss, step, epoch, state):\n",
    "        acc = self._accuracy(outs, y)\n",
    "        print(\"[{:3d}/{}] {} Step {:03d} Loss {:.3f} Acc {:.3f}\".format(epoch+1, EPOCHS, state, step, loss, acc))\n",
    "            \n",
    "    def _accuracy(self, output, target):\n",
    "        batch_size = target.size(0)\n",
    "\n",
    "        pred = output.argmax(1)\n",
    "        correct = pred.eq(target)\n",
    "        acc = correct.float().sum(0) / batch_size\n",
    "\n",
    "        return acc"
   ]
  },
  {
   "cell_type": "markdown",
   "metadata": {},
   "source": [
    "### Flatten"
   ]
  },
  {
   "cell_type": "code",
   "execution_count": 15,
   "metadata": {},
   "outputs": [
    {
     "name": "stdout",
     "output_type": "stream",
     "text": "Before flattening: torch.Size([10, 3, 32, 32])\nAfter flattening: torch.Size([10, 3072])\n"
    }
   ],
   "source": [
    "def flatten(x):\n",
    "    ###############################################################################\n",
    "    #                   TODO : Read the input in (N, C, W, H)                     #\n",
    "    #                          \"Flatten\" into (N, C*W*H)                          #                   \n",
    "    ###############################################################################\n",
    "    shape = x.size()\n",
    "    x = x.view(shape[0], shape[1]*shape[2]*shape[3])\n",
    "    ###############################################################################\n",
    "    #                            END TO DO                                        #\n",
    "    ###############################################################################\n",
    "    \n",
    "    return x\n",
    "\n",
    "def test_flatten():\n",
    "    x = torch.zeros((10, 3, 32, 32))\n",
    "    print(\"Before flattening:\", x.shape)\n",
    "    print(\"After flattening:\", flatten(x).shape) # Expected output (10, 3072) \n",
    "    \n",
    "test_flatten()"
   ]
  },
  {
   "cell_type": "markdown",
   "metadata": {},
   "source": [
    "## Part2 : Module API\n",
    "In this part, you have to complete the implentation of CNN with Module API.\n",
    "The network should have the following architectures.\n",
    "1. A convolution layer with 16 3\\*3 filters, with stride 2\n",
    "2. ReLU\n",
    "3. A convolution layer with 32 3\\*3 filters, with stride 2\n",
    "4. ReLU\n",
    "5. Flatten\n",
    "6. A fully-connected layer produce tensor to 200 \n",
    "7. ReLU\n",
    "8. A fully-connected layer produce score to 10 (classes)\n",
    "![](./resource/model_architecture.png)"
   ]
  },
  {
   "cell_type": "code",
   "execution_count": 16,
   "metadata": {},
   "outputs": [
    {
     "data": {
      "image/svg+xml": "<?xml version=\"1.0\" encoding=\"UTF-8\" standalone=\"no\"?>\r\n<!DOCTYPE svg PUBLIC \"-//W3C//DTD SVG 1.1//EN\"\r\n \"http://www.w3.org/Graphics/SVG/1.1/DTD/svg11.dtd\">\r\n<!-- Generated by graphviz version 2.38.0 (20140413.2041)\r\n -->\r\n<!-- Title: %3 Pages: 1 -->\r\n<svg width=\"307pt\" height=\"537pt\"\r\n viewBox=\"0.00 0.00 307.00 537.00\" xmlns=\"http://www.w3.org/2000/svg\" xmlns:xlink=\"http://www.w3.org/1999/xlink\">\r\n<g id=\"graph0\" class=\"graph\" transform=\"scale(1 1) rotate(0) translate(4 533)\">\r\n<title>%3</title>\r\n<polygon fill=\"white\" stroke=\"none\" points=\"-4,4 -4,-533 303,-533 303,4 -4,4\"/>\r\n<!-- 2371769769376 -->\r\n<g id=\"node1\" class=\"node\"><title>2371769769376</title>\r\n<polygon fill=\"#caff70\" stroke=\"black\" points=\"255,-21 172,-21 172,-0 255,-0 255,-21\"/>\r\n<text text-anchor=\"middle\" x=\"213.5\" y=\"-7.4\" font-family=\"Times New Roman,serif\" font-size=\"12.00\">MmBackward</text>\r\n</g>\r\n<!-- 2371769769936 -->\r\n<g id=\"node2\" class=\"node\"><title>2371769769936</title>\r\n<polygon fill=\"lightgrey\" stroke=\"black\" points=\"209.5,-78 119.5,-78 119.5,-57 209.5,-57 209.5,-78\"/>\r\n<text text-anchor=\"middle\" x=\"164.5\" y=\"-64.4\" font-family=\"Times New Roman,serif\" font-size=\"12.00\">ReluBackward0</text>\r\n</g>\r\n<!-- 2371769769936&#45;&gt;2371769769376 -->\r\n<g id=\"edge1\" class=\"edge\"><title>2371769769936&#45;&gt;2371769769376</title>\r\n<path fill=\"none\" stroke=\"black\" d=\"M173.035,-56.9197C179.906,-49.2072 189.745,-38.1639 198,-28.8978\"/>\r\n<polygon fill=\"black\" stroke=\"black\" points=\"200.694,-31.1357 204.733,-21.3408 195.467,-26.4792 200.694,-31.1357\"/>\r\n</g>\r\n<!-- 2371771580368 -->\r\n<g id=\"node3\" class=\"node\"><title>2371771580368</title>\r\n<polygon fill=\"lightgrey\" stroke=\"black\" points=\"206,-141.5 123,-141.5 123,-120.5 206,-120.5 206,-141.5\"/>\r\n<text text-anchor=\"middle\" x=\"164.5\" y=\"-127.9\" font-family=\"Times New Roman,serif\" font-size=\"12.00\">MmBackward</text>\r\n</g>\r\n<!-- 2371771580368&#45;&gt;2371769769936 -->\r\n<g id=\"edge2\" class=\"edge\"><title>2371771580368&#45;&gt;2371769769936</title>\r\n<path fill=\"none\" stroke=\"black\" d=\"M164.5,-120.391C164.5,-111.866 164.5,-99.1392 164.5,-88.4235\"/>\r\n<polygon fill=\"black\" stroke=\"black\" points=\"168,-88.2448 164.5,-78.2449 161,-88.2449 168,-88.2448\"/>\r\n</g>\r\n<!-- 2371771576840 -->\r\n<g id=\"node4\" class=\"node\"><title>2371771576840</title>\r\n<polygon fill=\"lightgrey\" stroke=\"black\" points=\"159.5,-205 71.5,-205 71.5,-184 159.5,-184 159.5,-205\"/>\r\n<text text-anchor=\"middle\" x=\"115.5\" y=\"-191.4\" font-family=\"Times New Roman,serif\" font-size=\"12.00\">ViewBackward</text>\r\n</g>\r\n<!-- 2371771576840&#45;&gt;2371771580368 -->\r\n<g id=\"edge3\" class=\"edge\"><title>2371771576840&#45;&gt;2371771580368</title>\r\n<path fill=\"none\" stroke=\"black\" d=\"M123.156,-183.891C130.449,-174.738 141.601,-160.741 150.485,-149.59\"/>\r\n<polygon fill=\"black\" stroke=\"black\" points=\"153.242,-151.747 156.736,-141.745 147.767,-147.385 153.242,-151.747\"/>\r\n</g>\r\n<!-- 2371591167112 -->\r\n<g id=\"node5\" class=\"node\"><title>2371591167112</title>\r\n<polygon fill=\"lightgrey\" stroke=\"black\" points=\"159.5,-268.5 69.5,-268.5 69.5,-247.5 159.5,-247.5 159.5,-268.5\"/>\r\n<text text-anchor=\"middle\" x=\"114.5\" y=\"-254.9\" font-family=\"Times New Roman,serif\" font-size=\"12.00\">ReluBackward0</text>\r\n</g>\r\n<!-- 2371591167112&#45;&gt;2371771576840 -->\r\n<g id=\"edge4\" class=\"edge\"><title>2371591167112&#45;&gt;2371771576840</title>\r\n<path fill=\"none\" stroke=\"black\" d=\"M114.656,-247.391C114.795,-238.866 115.002,-226.139 115.176,-215.423\"/>\r\n<polygon fill=\"black\" stroke=\"black\" points=\"118.678,-215.3 115.342,-205.245 111.679,-215.187 118.678,-215.3\"/>\r\n</g>\r\n<!-- 2371591167280 -->\r\n<g id=\"node6\" class=\"node\"><title>2371591167280</title>\r\n<polygon fill=\"lightgrey\" stroke=\"black\" points=\"177,-332 52,-332 52,-311 177,-311 177,-332\"/>\r\n<text text-anchor=\"middle\" x=\"114.5\" y=\"-318.4\" font-family=\"Times New Roman,serif\" font-size=\"12.00\">ThnnConv2DBackward</text>\r\n</g>\r\n<!-- 2371591167280&#45;&gt;2371591167112 -->\r\n<g id=\"edge5\" class=\"edge\"><title>2371591167280&#45;&gt;2371591167112</title>\r\n<path fill=\"none\" stroke=\"black\" d=\"M114.5,-310.891C114.5,-302.366 114.5,-289.639 114.5,-278.923\"/>\r\n<polygon fill=\"black\" stroke=\"black\" points=\"118,-278.745 114.5,-268.745 111,-278.745 118,-278.745\"/>\r\n</g>\r\n<!-- 2371591165936 -->\r\n<g id=\"node7\" class=\"node\"><title>2371591165936</title>\r\n<polygon fill=\"lightgrey\" stroke=\"black\" points=\"107.5,-395.5 17.5,-395.5 17.5,-374.5 107.5,-374.5 107.5,-395.5\"/>\r\n<text text-anchor=\"middle\" x=\"62.5\" y=\"-381.9\" font-family=\"Times New Roman,serif\" font-size=\"12.00\">ReluBackward0</text>\r\n</g>\r\n<!-- 2371591165936&#45;&gt;2371591167280 -->\r\n<g id=\"edge6\" class=\"edge\"><title>2371591165936&#45;&gt;2371591167280</title>\r\n<path fill=\"none\" stroke=\"black\" d=\"M70.625,-374.391C78.3642,-365.238 90.1987,-351.241 99.6272,-340.09\"/>\r\n<polygon fill=\"black\" stroke=\"black\" points=\"102.476,-342.141 106.26,-332.245 97.1311,-337.621 102.476,-342.141\"/>\r\n</g>\r\n<!-- 2371591165320 -->\r\n<g id=\"node8\" class=\"node\"><title>2371591165320</title>\r\n<polygon fill=\"lightgrey\" stroke=\"black\" points=\"125,-459 0,-459 0,-438 125,-438 125,-459\"/>\r\n<text text-anchor=\"middle\" x=\"62.5\" y=\"-445.4\" font-family=\"Times New Roman,serif\" font-size=\"12.00\">ThnnConv2DBackward</text>\r\n</g>\r\n<!-- 2371591165320&#45;&gt;2371591165936 -->\r\n<g id=\"edge7\" class=\"edge\"><title>2371591165320&#45;&gt;2371591165936</title>\r\n<path fill=\"none\" stroke=\"black\" d=\"M62.5,-437.891C62.5,-429.366 62.5,-416.639 62.5,-405.923\"/>\r\n<polygon fill=\"black\" stroke=\"black\" points=\"66.0001,-405.745 62.5,-395.745 59.0001,-405.745 66.0001,-405.745\"/>\r\n</g>\r\n<!-- 2371591166832 -->\r\n<g id=\"node9\" class=\"node\"><title>2371591166832</title>\r\n<polygon fill=\"lightblue\" stroke=\"black\" points=\"101,-529 24,-529 24,-495 101,-495 101,-529\"/>\r\n<text text-anchor=\"middle\" x=\"62.5\" y=\"-515.4\" font-family=\"Times New Roman,serif\" font-size=\"12.00\">conv1.weight</text>\r\n<text text-anchor=\"middle\" x=\"62.5\" y=\"-502.4\" font-family=\"Times New Roman,serif\" font-size=\"12.00\"> (16, 3, 3, 3)</text>\r\n</g>\r\n<!-- 2371591166832&#45;&gt;2371591165320 -->\r\n<g id=\"edge8\" class=\"edge\"><title>2371591166832&#45;&gt;2371591165320</title>\r\n<path fill=\"none\" stroke=\"black\" d=\"M62.5,-494.842C62.5,-487.012 62.5,-477.54 62.5,-469.282\"/>\r\n<polygon fill=\"black\" stroke=\"black\" points=\"66.0001,-469.042 62.5,-459.042 59.0001,-469.042 66.0001,-469.042\"/>\r\n</g>\r\n<!-- 2371591166328 -->\r\n<g id=\"node10\" class=\"node\"><title>2371591166328</title>\r\n<polygon fill=\"lightblue\" stroke=\"black\" points=\"207,-402 126,-402 126,-368 207,-368 207,-402\"/>\r\n<text text-anchor=\"middle\" x=\"166.5\" y=\"-388.4\" font-family=\"Times New Roman,serif\" font-size=\"12.00\">conv2.weight</text>\r\n<text text-anchor=\"middle\" x=\"166.5\" y=\"-375.4\" font-family=\"Times New Roman,serif\" font-size=\"12.00\"> (32, 16, 3, 3)</text>\r\n</g>\r\n<!-- 2371591166328&#45;&gt;2371591167280 -->\r\n<g id=\"edge9\" class=\"edge\"><title>2371591166328&#45;&gt;2371591167280</title>\r\n<path fill=\"none\" stroke=\"black\" d=\"M152.838,-367.842C145.54,-359.211 136.555,-348.585 129.118,-339.789\"/>\r\n<polygon fill=\"black\" stroke=\"black\" points=\"131.697,-337.418 122.568,-332.042 126.352,-341.938 131.697,-337.418\"/>\r\n</g>\r\n<!-- 2371771576952 -->\r\n<g id=\"node11\" class=\"node\"><title>2371771576952</title>\r\n<polygon fill=\"lightgrey\" stroke=\"black\" points=\"250,-205 179,-205 179,-184 250,-184 250,-205\"/>\r\n<text text-anchor=\"middle\" x=\"214.5\" y=\"-191.4\" font-family=\"Times New Roman,serif\" font-size=\"12.00\">TBackward</text>\r\n</g>\r\n<!-- 2371771576952&#45;&gt;2371771580368 -->\r\n<g id=\"edge10\" class=\"edge\"><title>2371771576952&#45;&gt;2371771580368</title>\r\n<path fill=\"none\" stroke=\"black\" d=\"M206.688,-183.891C199.246,-174.738 187.867,-160.741 178.801,-149.59\"/>\r\n<polygon fill=\"black\" stroke=\"black\" points=\"181.447,-147.296 172.423,-141.745 176.015,-151.712 181.447,-147.296\"/>\r\n</g>\r\n<!-- 2371591167336 -->\r\n<g id=\"node12\" class=\"node\"><title>2371591167336</title>\r\n<polygon fill=\"lightblue\" stroke=\"black\" points=\"253,-275 178,-275 178,-241 253,-241 253,-275\"/>\r\n<text text-anchor=\"middle\" x=\"215.5\" y=\"-261.4\" font-family=\"Times New Roman,serif\" font-size=\"12.00\">fc1.weight</text>\r\n<text text-anchor=\"middle\" x=\"215.5\" y=\"-248.4\" font-family=\"Times New Roman,serif\" font-size=\"12.00\"> (200, 1568)</text>\r\n</g>\r\n<!-- 2371591167336&#45;&gt;2371771576952 -->\r\n<g id=\"edge11\" class=\"edge\"><title>2371591167336&#45;&gt;2371771576952</title>\r\n<path fill=\"none\" stroke=\"black\" d=\"M215.237,-240.842C215.11,-233.012 214.956,-223.54 214.822,-215.282\"/>\r\n<polygon fill=\"black\" stroke=\"black\" points=\"218.317,-214.984 214.655,-205.042 211.318,-215.098 218.317,-214.984\"/>\r\n</g>\r\n<!-- 2371771580312 -->\r\n<g id=\"node13\" class=\"node\"><title>2371771580312</title>\r\n<polygon fill=\"lightgrey\" stroke=\"black\" points=\"299,-78 228,-78 228,-57 299,-57 299,-78\"/>\r\n<text text-anchor=\"middle\" x=\"263.5\" y=\"-64.4\" font-family=\"Times New Roman,serif\" font-size=\"12.00\">TBackward</text>\r\n</g>\r\n<!-- 2371771580312&#45;&gt;2371769769376 -->\r\n<g id=\"edge12\" class=\"edge\"><title>2371771580312&#45;&gt;2371769769376</title>\r\n<path fill=\"none\" stroke=\"black\" d=\"M254.791,-56.9197C247.779,-49.2072 237.74,-38.1639 229.316,-28.8978\"/>\r\n<polygon fill=\"black\" stroke=\"black\" points=\"231.763,-26.3859 222.446,-21.3408 226.583,-31.0946 231.763,-26.3859\"/>\r\n</g>\r\n<!-- 2371771577232 -->\r\n<g id=\"node14\" class=\"node\"><title>2371771577232</title>\r\n<polygon fill=\"lightblue\" stroke=\"black\" points=\"295,-148 232,-148 232,-114 295,-114 295,-148\"/>\r\n<text text-anchor=\"middle\" x=\"263.5\" y=\"-134.4\" font-family=\"Times New Roman,serif\" font-size=\"12.00\">fc2.weight</text>\r\n<text text-anchor=\"middle\" x=\"263.5\" y=\"-121.4\" font-family=\"Times New Roman,serif\" font-size=\"12.00\"> (10, 200)</text>\r\n</g>\r\n<!-- 2371771577232&#45;&gt;2371771580312 -->\r\n<g id=\"edge13\" class=\"edge\"><title>2371771577232&#45;&gt;2371771580312</title>\r\n<path fill=\"none\" stroke=\"black\" d=\"M263.5,-113.842C263.5,-106.012 263.5,-96.5396 263.5,-88.2816\"/>\r\n<polygon fill=\"black\" stroke=\"black\" points=\"267,-88.0419 263.5,-78.0419 260,-88.0419 267,-88.0419\"/>\r\n</g>\r\n</g>\r\n</svg>\r\n",
      "text/plain": "<graphviz.dot.Digraph at 0x2282ec47c88>"
     },
     "execution_count": 16,
     "metadata": {},
     "output_type": "execute_result"
    }
   ],
   "source": [
    "class CNN(nn.Module):\n",
    "    def __init__(self):\n",
    "        super().__init__()\n",
    "        self.conv1, self.conv2 = None, None\n",
    "        self.fc1, self.fc2 = None, None\n",
    "        ###############################################################################\n",
    "        #       TODO : Set up the layer that you need to construct the model          #\n",
    "        ###############################################################################\n",
    "        # Define two 2D convolutional layers\n",
    "        self.conv1 = nn.Conv2d(3, 16, 3, stride=2, padding=0, dilation=1, groups=1, bias=False, padding_mode='zeros')\n",
    "        self.conv2 = nn.Conv2d(16, 32, 3, stride=2, padding=0, dilation=1, groups=1, bias=False, padding_mode='zeros')\n",
    "        # Define fully-connected layers\n",
    "        self.fc1 = nn.Linear(1568, 200, bias=False)\n",
    "        self.fc2 = nn.Linear(200, 10, bias=False)\n",
    "        ###############################################################################\n",
    "        #                            END TO DO                                        #\n",
    "        ###############################################################################\n",
    "        \n",
    "        \n",
    "    def forward(self, x):\n",
    "        out = None\n",
    "        ###############################################################################\n",
    "        #            TODO : Implement the forward function. You should use            #\n",
    "        #                   the layers you defined in __init__ and specify the        #\n",
    "        #                   connectivity of those layers in forward()                 #\n",
    "        ###############################################################################\n",
    "        x = F.relu(self.conv1(x))\n",
    "        x = F.relu(self.conv2(x))\n",
    "        x = flatten(x)\n",
    "        x = F.relu(self.fc1(x))\n",
    "        out = self.fc2(x)\n",
    "        ###############################################################################\n",
    "        #                            END TO DO                                        #\n",
    "        ###############################################################################        \n",
    "\n",
    "        return out\n",
    "        \n",
    "\n",
    "model = CNN()\n",
    "x = torch.zeros((BATCH_SIZE, 3, 32, 32))\n",
    "make_dot(model(x), params=dict(model.named_parameters())) # You can check if the picture is the same \n",
    "                                                          # as previous picture"
   ]
  },
  {
   "cell_type": "markdown",
   "metadata": {},
   "source": [
    "### Train the model\n",
    "Train the model and check the accuracy of training dataset and validation set"
   ]
  },
  {
   "cell_type": "code",
   "execution_count": 17,
   "metadata": {},
   "outputs": [
    {
     "name": "stdout",
     "output_type": "stream",
     "text": "---------------- Epoch 0 ----------------\n[  1/5] Training Step 000 Loss 2.301 Acc 0.094\n[  1/5] Training Step 100 Loss 2.282 Acc 0.141\n[  1/5] Training Step 200 Loss 2.203 Acc 0.141\n[  1/5] Training Step 300 Loss 2.097 Acc 0.312\n[  1/5] Training Step 400 Loss 1.929 Acc 0.375\n[  1/5] Training Step 500 Loss 1.871 Acc 0.375\n[  1/5] Training Step 600 Loss 1.945 Acc 0.234\n[  1/5] Training Step 700 Loss 1.782 Acc 0.422\n[  1/5] Validate Step 015 Loss 1.849 Acc 0.353\n---------------- Epoch 1 ----------------\n[  2/5] Training Step 000 Loss 1.786 Acc 0.312\n[  2/5] Training Step 100 Loss 1.758 Acc 0.375\n[  2/5] Training Step 200 Loss 1.761 Acc 0.406\n[  2/5] Training Step 300 Loss 1.676 Acc 0.391\n[  2/5] Training Step 400 Loss 1.659 Acc 0.422\n[  2/5] Training Step 500 Loss 1.918 Acc 0.375\n[  2/5] Training Step 600 Loss 1.651 Acc 0.453\n[  2/5] Training Step 700 Loss 1.709 Acc 0.375\n[  2/5] Validate Step 015 Loss 1.675 Acc 0.422\n---------------- Epoch 2 ----------------\n[  3/5] Training Step 000 Loss 1.569 Acc 0.469\n[  3/5] Training Step 100 Loss 1.651 Acc 0.453\n[  3/5] Training Step 200 Loss 1.794 Acc 0.328\n[  3/5] Training Step 300 Loss 1.679 Acc 0.438\n[  3/5] Training Step 400 Loss 1.556 Acc 0.406\n[  3/5] Training Step 500 Loss 1.564 Acc 0.406\n[  3/5] Training Step 600 Loss 1.697 Acc 0.422\n[  3/5] Training Step 700 Loss 1.537 Acc 0.391\n[  3/5] Validate Step 015 Loss 1.526 Acc 0.476\n---------------- Epoch 3 ----------------\n[  4/5] Training Step 000 Loss 1.580 Acc 0.422\n[  4/5] Training Step 100 Loss 1.586 Acc 0.438\n[  4/5] Training Step 200 Loss 1.431 Acc 0.500\n[  4/5] Training Step 300 Loss 1.754 Acc 0.312\n[  4/5] Training Step 400 Loss 1.363 Acc 0.484\n[  4/5] Training Step 500 Loss 1.447 Acc 0.500\n[  4/5] Training Step 600 Loss 1.692 Acc 0.438\n[  4/5] Training Step 700 Loss 1.368 Acc 0.547\n[  4/5] Validate Step 015 Loss 1.411 Acc 0.498\n---------------- Epoch 4 ----------------\n[  5/5] Training Step 000 Loss 1.574 Acc 0.422\n[  5/5] Training Step 100 Loss 1.375 Acc 0.500\n[  5/5] Training Step 200 Loss 1.358 Acc 0.469\n[  5/5] Training Step 300 Loss 1.591 Acc 0.484\n[  5/5] Training Step 400 Loss 1.467 Acc 0.547\n[  5/5] Training Step 500 Loss 1.397 Acc 0.516\n[  5/5] Training Step 600 Loss 1.435 Acc 0.469\n[  5/5] Training Step 700 Loss 1.422 Acc 0.438\n[  5/5] Validate Step 015 Loss 1.359 Acc 0.517\n---------------- Testing ----------------\n[  1/5] Testing Step 156 Loss 1.383 Acc 0.508\n"
    }
   ],
   "source": [
    "criterion = nn.CrossEntropyLoss()\n",
    "optimizer = torch.optim.SGD(params=model.parameters(),lr=1e-3, momentum=0.9)\n",
    "trainer = Trainer(criterion, optimizer, device)\n",
    "trainer.train_loop(model, train_loader, val_loader)\n",
    "trainer.test(model, test_loader)"
   ]
  },
  {
   "cell_type": "markdown",
   "metadata": {},
   "source": [
    "## Part3 ModuleList API\n",
    "In this part, you have to complete the implentation of CNN with ModuleList API and Module API.\n",
    "The network should have the following architectures.\n",
    "1. A convolution layer with 16 3\\*3 filters, with stride 2\n",
    "2. ReLU\n",
    "3. A convolution layer with 32 3\\*3 filters, with stride 2\n",
    "4. ReLU\n",
    "5. Flatten\n",
    "6. A fully-connected layer produce tensor to 200 \n",
    "7. ReLU\n",
    "8. A fully-connected layer produce score to 10 (classes)\n",
    "![](./resource/model_architecture.png)"
   ]
  },
  {
   "cell_type": "code",
   "execution_count": 18,
   "metadata": {},
   "outputs": [
    {
     "data": {
      "image/svg+xml": "<?xml version=\"1.0\" encoding=\"UTF-8\" standalone=\"no\"?>\r\n<!DOCTYPE svg PUBLIC \"-//W3C//DTD SVG 1.1//EN\"\r\n \"http://www.w3.org/Graphics/SVG/1.1/DTD/svg11.dtd\">\r\n<!-- Generated by graphviz version 2.38.0 (20140413.2041)\r\n -->\r\n<!-- Title: %3 Pages: 1 -->\r\n<svg width=\"307pt\" height=\"537pt\"\r\n viewBox=\"0.00 0.00 307.00 537.00\" xmlns=\"http://www.w3.org/2000/svg\" xmlns:xlink=\"http://www.w3.org/1999/xlink\">\r\n<g id=\"graph0\" class=\"graph\" transform=\"scale(1 1) rotate(0) translate(4 533)\">\r\n<title>%3</title>\r\n<polygon fill=\"white\" stroke=\"none\" points=\"-4,4 -4,-533 303,-533 303,4 -4,4\"/>\r\n<!-- 2371771577288 -->\r\n<g id=\"node1\" class=\"node\"><title>2371771577288</title>\r\n<polygon fill=\"#caff70\" stroke=\"black\" points=\"255,-21 172,-21 172,-0 255,-0 255,-21\"/>\r\n<text text-anchor=\"middle\" x=\"213.5\" y=\"-7.4\" font-family=\"Times New Roman,serif\" font-size=\"12.00\">MmBackward</text>\r\n</g>\r\n<!-- 2371771577176 -->\r\n<g id=\"node2\" class=\"node\"><title>2371771577176</title>\r\n<polygon fill=\"lightgrey\" stroke=\"black\" points=\"209.5,-78 119.5,-78 119.5,-57 209.5,-57 209.5,-78\"/>\r\n<text text-anchor=\"middle\" x=\"164.5\" y=\"-64.4\" font-family=\"Times New Roman,serif\" font-size=\"12.00\">ReluBackward0</text>\r\n</g>\r\n<!-- 2371771577176&#45;&gt;2371771577288 -->\r\n<g id=\"edge1\" class=\"edge\"><title>2371771577176&#45;&gt;2371771577288</title>\r\n<path fill=\"none\" stroke=\"black\" d=\"M173.035,-56.9197C179.906,-49.2072 189.745,-38.1639 198,-28.8978\"/>\r\n<polygon fill=\"black\" stroke=\"black\" points=\"200.694,-31.1357 204.733,-21.3408 195.467,-26.4792 200.694,-31.1357\"/>\r\n</g>\r\n<!-- 2371769640160 -->\r\n<g id=\"node3\" class=\"node\"><title>2371769640160</title>\r\n<polygon fill=\"lightgrey\" stroke=\"black\" points=\"206,-141.5 123,-141.5 123,-120.5 206,-120.5 206,-141.5\"/>\r\n<text text-anchor=\"middle\" x=\"164.5\" y=\"-127.9\" font-family=\"Times New Roman,serif\" font-size=\"12.00\">MmBackward</text>\r\n</g>\r\n<!-- 2371769640160&#45;&gt;2371771577176 -->\r\n<g id=\"edge2\" class=\"edge\"><title>2371769640160&#45;&gt;2371771577176</title>\r\n<path fill=\"none\" stroke=\"black\" d=\"M164.5,-120.391C164.5,-111.866 164.5,-99.1392 164.5,-88.4235\"/>\r\n<polygon fill=\"black\" stroke=\"black\" points=\"168,-88.2448 164.5,-78.2449 161,-88.2449 168,-88.2448\"/>\r\n</g>\r\n<!-- 2371769543816 -->\r\n<g id=\"node4\" class=\"node\"><title>2371769543816</title>\r\n<polygon fill=\"lightgrey\" stroke=\"black\" points=\"159.5,-205 71.5,-205 71.5,-184 159.5,-184 159.5,-205\"/>\r\n<text text-anchor=\"middle\" x=\"115.5\" y=\"-191.4\" font-family=\"Times New Roman,serif\" font-size=\"12.00\">ViewBackward</text>\r\n</g>\r\n<!-- 2371769543816&#45;&gt;2371769640160 -->\r\n<g id=\"edge3\" class=\"edge\"><title>2371769543816&#45;&gt;2371769640160</title>\r\n<path fill=\"none\" stroke=\"black\" d=\"M123.156,-183.891C130.449,-174.738 141.601,-160.741 150.485,-149.59\"/>\r\n<polygon fill=\"black\" stroke=\"black\" points=\"153.242,-151.747 156.736,-141.745 147.767,-147.385 153.242,-151.747\"/>\r\n</g>\r\n<!-- 2371769543536 -->\r\n<g id=\"node5\" class=\"node\"><title>2371769543536</title>\r\n<polygon fill=\"lightgrey\" stroke=\"black\" points=\"159.5,-268.5 69.5,-268.5 69.5,-247.5 159.5,-247.5 159.5,-268.5\"/>\r\n<text text-anchor=\"middle\" x=\"114.5\" y=\"-254.9\" font-family=\"Times New Roman,serif\" font-size=\"12.00\">ReluBackward0</text>\r\n</g>\r\n<!-- 2371769543536&#45;&gt;2371769543816 -->\r\n<g id=\"edge4\" class=\"edge\"><title>2371769543536&#45;&gt;2371769543816</title>\r\n<path fill=\"none\" stroke=\"black\" d=\"M114.656,-247.391C114.795,-238.866 115.002,-226.139 115.176,-215.423\"/>\r\n<polygon fill=\"black\" stroke=\"black\" points=\"118.678,-215.3 115.342,-205.245 111.679,-215.187 118.678,-215.3\"/>\r\n</g>\r\n<!-- 2371769542528 -->\r\n<g id=\"node6\" class=\"node\"><title>2371769542528</title>\r\n<polygon fill=\"lightgrey\" stroke=\"black\" points=\"177,-332 52,-332 52,-311 177,-311 177,-332\"/>\r\n<text text-anchor=\"middle\" x=\"114.5\" y=\"-318.4\" font-family=\"Times New Roman,serif\" font-size=\"12.00\">ThnnConv2DBackward</text>\r\n</g>\r\n<!-- 2371769542528&#45;&gt;2371769543536 -->\r\n<g id=\"edge5\" class=\"edge\"><title>2371769542528&#45;&gt;2371769543536</title>\r\n<path fill=\"none\" stroke=\"black\" d=\"M114.5,-310.891C114.5,-302.366 114.5,-289.639 114.5,-278.923\"/>\r\n<polygon fill=\"black\" stroke=\"black\" points=\"118,-278.745 114.5,-268.745 111,-278.745 118,-278.745\"/>\r\n</g>\r\n<!-- 2371769543424 -->\r\n<g id=\"node7\" class=\"node\"><title>2371769543424</title>\r\n<polygon fill=\"lightgrey\" stroke=\"black\" points=\"107.5,-395.5 17.5,-395.5 17.5,-374.5 107.5,-374.5 107.5,-395.5\"/>\r\n<text text-anchor=\"middle\" x=\"62.5\" y=\"-381.9\" font-family=\"Times New Roman,serif\" font-size=\"12.00\">ReluBackward0</text>\r\n</g>\r\n<!-- 2371769543424&#45;&gt;2371769542528 -->\r\n<g id=\"edge6\" class=\"edge\"><title>2371769543424&#45;&gt;2371769542528</title>\r\n<path fill=\"none\" stroke=\"black\" d=\"M70.625,-374.391C78.3642,-365.238 90.1987,-351.241 99.6272,-340.09\"/>\r\n<polygon fill=\"black\" stroke=\"black\" points=\"102.476,-342.141 106.26,-332.245 97.1311,-337.621 102.476,-342.141\"/>\r\n</g>\r\n<!-- 2371769544040 -->\r\n<g id=\"node8\" class=\"node\"><title>2371769544040</title>\r\n<polygon fill=\"lightgrey\" stroke=\"black\" points=\"125,-459 0,-459 0,-438 125,-438 125,-459\"/>\r\n<text text-anchor=\"middle\" x=\"62.5\" y=\"-445.4\" font-family=\"Times New Roman,serif\" font-size=\"12.00\">ThnnConv2DBackward</text>\r\n</g>\r\n<!-- 2371769544040&#45;&gt;2371769543424 -->\r\n<g id=\"edge7\" class=\"edge\"><title>2371769544040&#45;&gt;2371769543424</title>\r\n<path fill=\"none\" stroke=\"black\" d=\"M62.5,-437.891C62.5,-429.366 62.5,-416.639 62.5,-405.923\"/>\r\n<polygon fill=\"black\" stroke=\"black\" points=\"66.0001,-405.745 62.5,-395.745 59.0001,-405.745 66.0001,-405.745\"/>\r\n</g>\r\n<!-- 2371769544152 -->\r\n<g id=\"node9\" class=\"node\"><title>2371769544152</title>\r\n<polygon fill=\"lightblue\" stroke=\"black\" points=\"104.5,-529 20.5,-529 20.5,-495 104.5,-495 104.5,-529\"/>\r\n<text text-anchor=\"middle\" x=\"62.5\" y=\"-515.4\" font-family=\"Times New Roman,serif\" font-size=\"12.00\">convs.0.weight</text>\r\n<text text-anchor=\"middle\" x=\"62.5\" y=\"-502.4\" font-family=\"Times New Roman,serif\" font-size=\"12.00\"> (16, 3, 3, 3)</text>\r\n</g>\r\n<!-- 2371769544152&#45;&gt;2371769544040 -->\r\n<g id=\"edge8\" class=\"edge\"><title>2371769544152&#45;&gt;2371769544040</title>\r\n<path fill=\"none\" stroke=\"black\" d=\"M62.5,-494.842C62.5,-487.012 62.5,-477.54 62.5,-469.282\"/>\r\n<polygon fill=\"black\" stroke=\"black\" points=\"66.0001,-469.042 62.5,-459.042 59.0001,-469.042 66.0001,-469.042\"/>\r\n</g>\r\n<!-- 2371769544376 -->\r\n<g id=\"node10\" class=\"node\"><title>2371769544376</title>\r\n<polygon fill=\"lightblue\" stroke=\"black\" points=\"209.5,-402 125.5,-402 125.5,-368 209.5,-368 209.5,-402\"/>\r\n<text text-anchor=\"middle\" x=\"167.5\" y=\"-388.4\" font-family=\"Times New Roman,serif\" font-size=\"12.00\">convs.1.weight</text>\r\n<text text-anchor=\"middle\" x=\"167.5\" y=\"-375.4\" font-family=\"Times New Roman,serif\" font-size=\"12.00\"> (32, 16, 3, 3)</text>\r\n</g>\r\n<!-- 2371769544376&#45;&gt;2371769542528 -->\r\n<g id=\"edge9\" class=\"edge\"><title>2371769544376&#45;&gt;2371769542528</title>\r\n<path fill=\"none\" stroke=\"black\" d=\"M153.575,-367.842C146.137,-359.211 136.98,-348.585 129.4,-339.789\"/>\r\n<polygon fill=\"black\" stroke=\"black\" points=\"131.903,-337.332 122.723,-332.042 126.6,-341.902 131.903,-337.332\"/>\r\n</g>\r\n<!-- 2371769543480 -->\r\n<g id=\"node11\" class=\"node\"><title>2371769543480</title>\r\n<polygon fill=\"lightgrey\" stroke=\"black\" points=\"250,-205 179,-205 179,-184 250,-184 250,-205\"/>\r\n<text text-anchor=\"middle\" x=\"214.5\" y=\"-191.4\" font-family=\"Times New Roman,serif\" font-size=\"12.00\">TBackward</text>\r\n</g>\r\n<!-- 2371769543480&#45;&gt;2371769640160 -->\r\n<g id=\"edge10\" class=\"edge\"><title>2371769543480&#45;&gt;2371769640160</title>\r\n<path fill=\"none\" stroke=\"black\" d=\"M206.688,-183.891C199.246,-174.738 187.867,-160.741 178.801,-149.59\"/>\r\n<polygon fill=\"black\" stroke=\"black\" points=\"181.447,-147.296 172.423,-141.745 176.015,-151.712 181.447,-147.296\"/>\r\n</g>\r\n<!-- 2371769544096 -->\r\n<g id=\"node12\" class=\"node\"><title>2371769544096</title>\r\n<polygon fill=\"lightblue\" stroke=\"black\" points=\"253,-275 178,-275 178,-241 253,-241 253,-275\"/>\r\n<text text-anchor=\"middle\" x=\"215.5\" y=\"-261.4\" font-family=\"Times New Roman,serif\" font-size=\"12.00\">fcs.0.weight</text>\r\n<text text-anchor=\"middle\" x=\"215.5\" y=\"-248.4\" font-family=\"Times New Roman,serif\" font-size=\"12.00\"> (200, 1568)</text>\r\n</g>\r\n<!-- 2371769544096&#45;&gt;2371769543480 -->\r\n<g id=\"edge11\" class=\"edge\"><title>2371769544096&#45;&gt;2371769543480</title>\r\n<path fill=\"none\" stroke=\"black\" d=\"M215.237,-240.842C215.11,-233.012 214.956,-223.54 214.822,-215.282\"/>\r\n<polygon fill=\"black\" stroke=\"black\" points=\"218.317,-214.984 214.655,-205.042 211.318,-215.098 218.317,-214.984\"/>\r\n</g>\r\n<!-- 2371769639768 -->\r\n<g id=\"node13\" class=\"node\"><title>2371769639768</title>\r\n<polygon fill=\"lightgrey\" stroke=\"black\" points=\"299,-78 228,-78 228,-57 299,-57 299,-78\"/>\r\n<text text-anchor=\"middle\" x=\"263.5\" y=\"-64.4\" font-family=\"Times New Roman,serif\" font-size=\"12.00\">TBackward</text>\r\n</g>\r\n<!-- 2371769639768&#45;&gt;2371771577288 -->\r\n<g id=\"edge12\" class=\"edge\"><title>2371769639768&#45;&gt;2371771577288</title>\r\n<path fill=\"none\" stroke=\"black\" d=\"M254.791,-56.9197C247.779,-49.2072 237.74,-38.1639 229.316,-28.8978\"/>\r\n<polygon fill=\"black\" stroke=\"black\" points=\"231.763,-26.3859 222.446,-21.3408 226.583,-31.0946 231.763,-26.3859\"/>\r\n</g>\r\n<!-- 2371769642568 -->\r\n<g id=\"node14\" class=\"node\"><title>2371769642568</title>\r\n<polygon fill=\"lightblue\" stroke=\"black\" points=\"299,-148 228,-148 228,-114 299,-114 299,-148\"/>\r\n<text text-anchor=\"middle\" x=\"263.5\" y=\"-134.4\" font-family=\"Times New Roman,serif\" font-size=\"12.00\">fcs.1.weight</text>\r\n<text text-anchor=\"middle\" x=\"263.5\" y=\"-121.4\" font-family=\"Times New Roman,serif\" font-size=\"12.00\"> (10, 200)</text>\r\n</g>\r\n<!-- 2371769642568&#45;&gt;2371769639768 -->\r\n<g id=\"edge13\" class=\"edge\"><title>2371769642568&#45;&gt;2371769639768</title>\r\n<path fill=\"none\" stroke=\"black\" d=\"M263.5,-113.842C263.5,-106.012 263.5,-96.5396 263.5,-88.2816\"/>\r\n<polygon fill=\"black\" stroke=\"black\" points=\"267,-88.0419 263.5,-78.0419 260,-88.0419 267,-88.0419\"/>\r\n</g>\r\n</g>\r\n</svg>\r\n",
      "text/plain": "<graphviz.dot.Digraph at 0x228387e9ac8>"
     },
     "execution_count": 18,
     "metadata": {},
     "output_type": "execute_result"
    }
   ],
   "source": [
    "class ML(nn.Module):\n",
    "    def __init__(self):\n",
    "        super().__init__()\n",
    "        self.convs, self.fcs = nn.ModuleList(), nn.ModuleList()\n",
    "        ###############################################################################\n",
    "        #       TODO : Set up the layer that you need to construct the model          #\n",
    "        ###############################################################################        \n",
    "        self.convs.append(nn.Conv2d(3, 16, 3, stride=2, padding=0, dilation=1, groups=1, bias=False, padding_mode='zeros'))\n",
    "        self.convs.append(nn.Conv2d(16, 32, 3, stride=2, padding=0, dilation=1, groups=1, bias=False, padding_mode='zeros'))\n",
    "        self.fcs.append(nn.Linear(1568, 200, bias=False))\n",
    "        self.fcs.append(nn.Linear(200, 10, bias=False))\n",
    "        ###############################################################################\n",
    "        #                            END TO DO                                        #\n",
    "        ############################################################################### \n",
    "        \n",
    "    def forward(self, x):\n",
    "        out = None\n",
    "        ###############################################################################\n",
    "        #            TODO : Implement the forward function. You should use            #\n",
    "        #                   the layers you defined in __init__ and specify the        #\n",
    "        #                   connectivity of those layers in forward()                 #\n",
    "        ###############################################################################\n",
    "        for i in self.convs:\n",
    "            x = F.relu(i(x))\n",
    "        x = flatten(x)\n",
    "        for i in self.fcs[:-1]:\n",
    "            x = F.relu(i(x))\n",
    "        out = self.fcs[-1](x)\n",
    "        ###############################################################################\n",
    "        #                            END TO DO                                        #\n",
    "        ###############################################################################             \n",
    "        return out\n",
    "    \n",
    "model = ML()\n",
    "x = torch.zeros((BATCH_SIZE, 3, 32, 32))\n",
    "make_dot(model(x), params=dict(model.named_parameters())) # You can check if the picture is the same \n",
    "                                                          # as previous picture"
   ]
  },
  {
   "cell_type": "markdown",
   "metadata": {},
   "source": [
    "### Train the model\n",
    "Train the model and check the accuracy of training dataset and validation set"
   ]
  },
  {
   "cell_type": "code",
   "execution_count": 19,
   "metadata": {},
   "outputs": [
    {
     "name": "stdout",
     "output_type": "stream",
     "text": "---------------- Epoch 0 ----------------\n[  1/5] Training Step 000 Loss 2.305 Acc 0.125\n[  1/5] Training Step 100 Loss 2.291 Acc 0.125\n[  1/5] Training Step 200 Loss 2.262 Acc 0.203\n[  1/5] Training Step 300 Loss 2.212 Acc 0.219\n[  1/5] Training Step 400 Loss 2.005 Acc 0.266\n[  1/5] Training Step 500 Loss 2.026 Acc 0.359\n[  1/5] Training Step 600 Loss 1.956 Acc 0.250\n[  1/5] Training Step 700 Loss 1.993 Acc 0.344\n[  1/5] Validate Step 015 Loss 1.854 Acc 0.358\n---------------- Epoch 1 ----------------\n[  2/5] Training Step 000 Loss 1.784 Acc 0.328\n[  2/5] Training Step 100 Loss 1.718 Acc 0.297\n[  2/5] Training Step 200 Loss 1.824 Acc 0.328\n[  2/5] Training Step 300 Loss 1.767 Acc 0.391\n[  2/5] Training Step 400 Loss 1.682 Acc 0.438\n[  2/5] Training Step 500 Loss 1.604 Acc 0.469\n[  2/5] Training Step 600 Loss 1.555 Acc 0.438\n[  2/5] Training Step 700 Loss 1.813 Acc 0.406\n[  2/5] Validate Step 015 Loss 1.651 Acc 0.419\n---------------- Epoch 2 ----------------\n[  3/5] Training Step 000 Loss 1.602 Acc 0.469\n[  3/5] Training Step 100 Loss 1.597 Acc 0.438\n[  3/5] Training Step 200 Loss 1.441 Acc 0.500\n[  3/5] Training Step 300 Loss 1.518 Acc 0.453\n[  3/5] Training Step 400 Loss 1.553 Acc 0.500\n[  3/5] Training Step 500 Loss 1.407 Acc 0.500\n[  3/5] Training Step 600 Loss 1.471 Acc 0.453\n[  3/5] Training Step 700 Loss 1.329 Acc 0.484\n[  3/5] Validate Step 015 Loss 1.547 Acc 0.450\n---------------- Epoch 3 ----------------\n[  4/5] Training Step 000 Loss 1.500 Acc 0.469\n[  4/5] Training Step 100 Loss 1.371 Acc 0.531\n[  4/5] Training Step 200 Loss 1.627 Acc 0.484\n[  4/5] Training Step 300 Loss 1.415 Acc 0.469\n[  4/5] Training Step 400 Loss 1.595 Acc 0.375\n[  4/5] Training Step 500 Loss 1.444 Acc 0.516\n[  4/5] Training Step 600 Loss 1.329 Acc 0.547\n[  4/5] Training Step 700 Loss 1.152 Acc 0.562\n[  4/5] Validate Step 015 Loss 1.388 Acc 0.500\n---------------- Epoch 4 ----------------\n[  5/5] Training Step 000 Loss 1.459 Acc 0.531\n[  5/5] Training Step 100 Loss 1.436 Acc 0.500\n[  5/5] Training Step 200 Loss 1.773 Acc 0.359\n[  5/5] Training Step 300 Loss 1.560 Acc 0.469\n[  5/5] Training Step 400 Loss 1.464 Acc 0.500\n[  5/5] Training Step 500 Loss 1.266 Acc 0.578\n[  5/5] Training Step 600 Loss 1.141 Acc 0.594\n[  5/5] Training Step 700 Loss 1.419 Acc 0.531\n[  5/5] Validate Step 015 Loss 1.330 Acc 0.541\n---------------- Testing ----------------\n[  1/5] Testing Step 156 Loss 1.355 Acc 0.518\n"
    }
   ],
   "source": [
    "criterion = nn.CrossEntropyLoss()\n",
    "optimizer = torch.optim.SGD(params=model.parameters(),lr=1e-3, momentum=0.9)\n",
    "trainer = Trainer(criterion, optimizer, device)\n",
    "trainer.train_loop(model, train_loader, val_loader)\n",
    "trainer.test(model, test_loader)"
   ]
  },
  {
   "cell_type": "markdown",
   "metadata": {},
   "source": [
    "## Part4 Sequential\n",
    "In this part, you have to complete the implentation of CNN with Sequential API.\n",
    "The network should have the following architectures.\n",
    "1. A convolution layer with 16 3\\*3 filters, with stride 2\n",
    "2. ReLU\n",
    "3. A convolution layer with 32 3\\*3 filters, with stride 2\n",
    "4. ReLU\n",
    "5. Flatten\n",
    "6. A fully-connected layer produce tensor to 200 \n",
    "7. ReLU\n",
    "8. A fully-connected layer produce score to 10 (classes)\n",
    "![](./resource/model_architecture.png)"
   ]
  },
  {
   "cell_type": "code",
   "execution_count": 20,
   "metadata": {},
   "outputs": [],
   "source": [
    "class Flatten(nn.Module):\n",
    "    def forward(self, x):\n",
    "        return flatten(x)"
   ]
  },
  {
   "cell_type": "code",
   "execution_count": 21,
   "metadata": {},
   "outputs": [
    {
     "data": {
      "image/svg+xml": "<?xml version=\"1.0\" encoding=\"UTF-8\" standalone=\"no\"?>\r\n<!DOCTYPE svg PUBLIC \"-//W3C//DTD SVG 1.1//EN\"\r\n \"http://www.w3.org/Graphics/SVG/1.1/DTD/svg11.dtd\">\r\n<!-- Generated by graphviz version 2.38.0 (20140413.2041)\r\n -->\r\n<!-- Title: %3 Pages: 1 -->\r\n<svg width=\"307pt\" height=\"537pt\"\r\n viewBox=\"0.00 0.00 307.00 537.00\" xmlns=\"http://www.w3.org/2000/svg\" xmlns:xlink=\"http://www.w3.org/1999/xlink\">\r\n<g id=\"graph0\" class=\"graph\" transform=\"scale(1 1) rotate(0) translate(4 533)\">\r\n<title>%3</title>\r\n<polygon fill=\"white\" stroke=\"none\" points=\"-4,4 -4,-533 303,-533 303,4 -4,4\"/>\r\n<!-- 2371769543312 -->\r\n<g id=\"node1\" class=\"node\"><title>2371769543312</title>\r\n<polygon fill=\"#caff70\" stroke=\"black\" points=\"255,-21 172,-21 172,-0 255,-0 255,-21\"/>\r\n<text text-anchor=\"middle\" x=\"213.5\" y=\"-7.4\" font-family=\"Times New Roman,serif\" font-size=\"12.00\">MmBackward</text>\r\n</g>\r\n<!-- 2371769543256 -->\r\n<g id=\"node2\" class=\"node\"><title>2371769543256</title>\r\n<polygon fill=\"lightgrey\" stroke=\"black\" points=\"209.5,-78 119.5,-78 119.5,-57 209.5,-57 209.5,-78\"/>\r\n<text text-anchor=\"middle\" x=\"164.5\" y=\"-64.4\" font-family=\"Times New Roman,serif\" font-size=\"12.00\">ReluBackward0</text>\r\n</g>\r\n<!-- 2371769543256&#45;&gt;2371769543312 -->\r\n<g id=\"edge1\" class=\"edge\"><title>2371769543256&#45;&gt;2371769543312</title>\r\n<path fill=\"none\" stroke=\"black\" d=\"M173.035,-56.9197C179.906,-49.2072 189.745,-38.1639 198,-28.8978\"/>\r\n<polygon fill=\"black\" stroke=\"black\" points=\"200.694,-31.1357 204.733,-21.3408 195.467,-26.4792 200.694,-31.1357\"/>\r\n</g>\r\n<!-- 2371769642848 -->\r\n<g id=\"node3\" class=\"node\"><title>2371769642848</title>\r\n<polygon fill=\"lightgrey\" stroke=\"black\" points=\"206,-141.5 123,-141.5 123,-120.5 206,-120.5 206,-141.5\"/>\r\n<text text-anchor=\"middle\" x=\"164.5\" y=\"-127.9\" font-family=\"Times New Roman,serif\" font-size=\"12.00\">MmBackward</text>\r\n</g>\r\n<!-- 2371769642848&#45;&gt;2371769543256 -->\r\n<g id=\"edge2\" class=\"edge\"><title>2371769642848&#45;&gt;2371769543256</title>\r\n<path fill=\"none\" stroke=\"black\" d=\"M164.5,-120.391C164.5,-111.866 164.5,-99.1392 164.5,-88.4235\"/>\r\n<polygon fill=\"black\" stroke=\"black\" points=\"168,-88.2448 164.5,-78.2449 161,-88.2449 168,-88.2448\"/>\r\n</g>\r\n<!-- 2371769642232 -->\r\n<g id=\"node4\" class=\"node\"><title>2371769642232</title>\r\n<polygon fill=\"lightgrey\" stroke=\"black\" points=\"159.5,-205 71.5,-205 71.5,-184 159.5,-184 159.5,-205\"/>\r\n<text text-anchor=\"middle\" x=\"115.5\" y=\"-191.4\" font-family=\"Times New Roman,serif\" font-size=\"12.00\">ViewBackward</text>\r\n</g>\r\n<!-- 2371769642232&#45;&gt;2371769642848 -->\r\n<g id=\"edge3\" class=\"edge\"><title>2371769642232&#45;&gt;2371769642848</title>\r\n<path fill=\"none\" stroke=\"black\" d=\"M123.156,-183.891C130.449,-174.738 141.601,-160.741 150.485,-149.59\"/>\r\n<polygon fill=\"black\" stroke=\"black\" points=\"153.242,-151.747 156.736,-141.745 147.767,-147.385 153.242,-151.747\"/>\r\n</g>\r\n<!-- 2371769640944 -->\r\n<g id=\"node5\" class=\"node\"><title>2371769640944</title>\r\n<polygon fill=\"lightgrey\" stroke=\"black\" points=\"159.5,-268.5 69.5,-268.5 69.5,-247.5 159.5,-247.5 159.5,-268.5\"/>\r\n<text text-anchor=\"middle\" x=\"114.5\" y=\"-254.9\" font-family=\"Times New Roman,serif\" font-size=\"12.00\">ReluBackward0</text>\r\n</g>\r\n<!-- 2371769640944&#45;&gt;2371769642232 -->\r\n<g id=\"edge4\" class=\"edge\"><title>2371769640944&#45;&gt;2371769642232</title>\r\n<path fill=\"none\" stroke=\"black\" d=\"M114.656,-247.391C114.795,-238.866 115.002,-226.139 115.176,-215.423\"/>\r\n<polygon fill=\"black\" stroke=\"black\" points=\"118.678,-215.3 115.342,-205.245 111.679,-215.187 118.678,-215.3\"/>\r\n</g>\r\n<!-- 2371769642064 -->\r\n<g id=\"node6\" class=\"node\"><title>2371769642064</title>\r\n<polygon fill=\"lightgrey\" stroke=\"black\" points=\"177,-332 52,-332 52,-311 177,-311 177,-332\"/>\r\n<text text-anchor=\"middle\" x=\"114.5\" y=\"-318.4\" font-family=\"Times New Roman,serif\" font-size=\"12.00\">ThnnConv2DBackward</text>\r\n</g>\r\n<!-- 2371769642064&#45;&gt;2371769640944 -->\r\n<g id=\"edge5\" class=\"edge\"><title>2371769642064&#45;&gt;2371769640944</title>\r\n<path fill=\"none\" stroke=\"black\" d=\"M114.5,-310.891C114.5,-302.366 114.5,-289.639 114.5,-278.923\"/>\r\n<polygon fill=\"black\" stroke=\"black\" points=\"118,-278.745 114.5,-268.745 111,-278.745 118,-278.745\"/>\r\n</g>\r\n<!-- 2371769640888 -->\r\n<g id=\"node7\" class=\"node\"><title>2371769640888</title>\r\n<polygon fill=\"lightgrey\" stroke=\"black\" points=\"107.5,-395.5 17.5,-395.5 17.5,-374.5 107.5,-374.5 107.5,-395.5\"/>\r\n<text text-anchor=\"middle\" x=\"62.5\" y=\"-381.9\" font-family=\"Times New Roman,serif\" font-size=\"12.00\">ReluBackward0</text>\r\n</g>\r\n<!-- 2371769640888&#45;&gt;2371769642064 -->\r\n<g id=\"edge6\" class=\"edge\"><title>2371769640888&#45;&gt;2371769642064</title>\r\n<path fill=\"none\" stroke=\"black\" d=\"M70.625,-374.391C78.3642,-365.238 90.1987,-351.241 99.6272,-340.09\"/>\r\n<polygon fill=\"black\" stroke=\"black\" points=\"102.476,-342.141 106.26,-332.245 97.1311,-337.621 102.476,-342.141\"/>\r\n</g>\r\n<!-- 2371769641616 -->\r\n<g id=\"node8\" class=\"node\"><title>2371769641616</title>\r\n<polygon fill=\"lightgrey\" stroke=\"black\" points=\"125,-459 0,-459 0,-438 125,-438 125,-459\"/>\r\n<text text-anchor=\"middle\" x=\"62.5\" y=\"-445.4\" font-family=\"Times New Roman,serif\" font-size=\"12.00\">ThnnConv2DBackward</text>\r\n</g>\r\n<!-- 2371769641616&#45;&gt;2371769640888 -->\r\n<g id=\"edge7\" class=\"edge\"><title>2371769641616&#45;&gt;2371769640888</title>\r\n<path fill=\"none\" stroke=\"black\" d=\"M62.5,-437.891C62.5,-429.366 62.5,-416.639 62.5,-405.923\"/>\r\n<polygon fill=\"black\" stroke=\"black\" points=\"66.0001,-405.745 62.5,-395.745 59.0001,-405.745 66.0001,-405.745\"/>\r\n</g>\r\n<!-- 2371769639208 -->\r\n<g id=\"node9\" class=\"node\"><title>2371769639208</title>\r\n<polygon fill=\"lightblue\" stroke=\"black\" points=\"100,-529 25,-529 25,-495 100,-495 100,-529\"/>\r\n<text text-anchor=\"middle\" x=\"62.5\" y=\"-515.4\" font-family=\"Times New Roman,serif\" font-size=\"12.00\">0.weight</text>\r\n<text text-anchor=\"middle\" x=\"62.5\" y=\"-502.4\" font-family=\"Times New Roman,serif\" font-size=\"12.00\"> (16, 3, 3, 3)</text>\r\n</g>\r\n<!-- 2371769639208&#45;&gt;2371769641616 -->\r\n<g id=\"edge8\" class=\"edge\"><title>2371769639208&#45;&gt;2371769641616</title>\r\n<path fill=\"none\" stroke=\"black\" d=\"M62.5,-494.842C62.5,-487.012 62.5,-477.54 62.5,-469.282\"/>\r\n<polygon fill=\"black\" stroke=\"black\" points=\"66.0001,-469.042 62.5,-459.042 59.0001,-469.042 66.0001,-469.042\"/>\r\n</g>\r\n<!-- 2371769642008 -->\r\n<g id=\"node10\" class=\"node\"><title>2371769642008</title>\r\n<polygon fill=\"lightblue\" stroke=\"black\" points=\"207,-402 126,-402 126,-368 207,-368 207,-402\"/>\r\n<text text-anchor=\"middle\" x=\"166.5\" y=\"-388.4\" font-family=\"Times New Roman,serif\" font-size=\"12.00\">2.weight</text>\r\n<text text-anchor=\"middle\" x=\"166.5\" y=\"-375.4\" font-family=\"Times New Roman,serif\" font-size=\"12.00\"> (32, 16, 3, 3)</text>\r\n</g>\r\n<!-- 2371769642008&#45;&gt;2371769642064 -->\r\n<g id=\"edge9\" class=\"edge\"><title>2371769642008&#45;&gt;2371769642064</title>\r\n<path fill=\"none\" stroke=\"black\" d=\"M152.838,-367.842C145.54,-359.211 136.555,-348.585 129.118,-339.789\"/>\r\n<polygon fill=\"black\" stroke=\"black\" points=\"131.697,-337.418 122.568,-332.042 126.352,-341.938 131.697,-337.418\"/>\r\n</g>\r\n<!-- 2371769640720 -->\r\n<g id=\"node11\" class=\"node\"><title>2371769640720</title>\r\n<polygon fill=\"lightgrey\" stroke=\"black\" points=\"250,-205 179,-205 179,-184 250,-184 250,-205\"/>\r\n<text text-anchor=\"middle\" x=\"214.5\" y=\"-191.4\" font-family=\"Times New Roman,serif\" font-size=\"12.00\">TBackward</text>\r\n</g>\r\n<!-- 2371769640720&#45;&gt;2371769642848 -->\r\n<g id=\"edge10\" class=\"edge\"><title>2371769640720&#45;&gt;2371769642848</title>\r\n<path fill=\"none\" stroke=\"black\" d=\"M206.688,-183.891C199.246,-174.738 187.867,-160.741 178.801,-149.59\"/>\r\n<polygon fill=\"black\" stroke=\"black\" points=\"181.447,-147.296 172.423,-141.745 176.015,-151.712 181.447,-147.296\"/>\r\n</g>\r\n<!-- 2371769639264 -->\r\n<g id=\"node12\" class=\"node\"><title>2371769639264</title>\r\n<polygon fill=\"lightblue\" stroke=\"black\" points=\"253,-275 178,-275 178,-241 253,-241 253,-275\"/>\r\n<text text-anchor=\"middle\" x=\"215.5\" y=\"-261.4\" font-family=\"Times New Roman,serif\" font-size=\"12.00\">5.weight</text>\r\n<text text-anchor=\"middle\" x=\"215.5\" y=\"-248.4\" font-family=\"Times New Roman,serif\" font-size=\"12.00\"> (200, 1568)</text>\r\n</g>\r\n<!-- 2371769639264&#45;&gt;2371769640720 -->\r\n<g id=\"edge11\" class=\"edge\"><title>2371769639264&#45;&gt;2371769640720</title>\r\n<path fill=\"none\" stroke=\"black\" d=\"M215.237,-240.842C215.11,-233.012 214.956,-223.54 214.822,-215.282\"/>\r\n<polygon fill=\"black\" stroke=\"black\" points=\"218.317,-214.984 214.655,-205.042 211.318,-215.098 218.317,-214.984\"/>\r\n</g>\r\n<!-- 2371769543816 -->\r\n<g id=\"node13\" class=\"node\"><title>2371769543816</title>\r\n<polygon fill=\"lightgrey\" stroke=\"black\" points=\"299,-78 228,-78 228,-57 299,-57 299,-78\"/>\r\n<text text-anchor=\"middle\" x=\"263.5\" y=\"-64.4\" font-family=\"Times New Roman,serif\" font-size=\"12.00\">TBackward</text>\r\n</g>\r\n<!-- 2371769543816&#45;&gt;2371769543312 -->\r\n<g id=\"edge12\" class=\"edge\"><title>2371769543816&#45;&gt;2371769543312</title>\r\n<path fill=\"none\" stroke=\"black\" d=\"M254.791,-56.9197C247.779,-49.2072 237.74,-38.1639 229.316,-28.8978\"/>\r\n<polygon fill=\"black\" stroke=\"black\" points=\"231.763,-26.3859 222.446,-21.3408 226.583,-31.0946 231.763,-26.3859\"/>\r\n</g>\r\n<!-- 2371771577288 -->\r\n<g id=\"node14\" class=\"node\"><title>2371771577288</title>\r\n<polygon fill=\"lightblue\" stroke=\"black\" points=\"295,-148 232,-148 232,-114 295,-114 295,-148\"/>\r\n<text text-anchor=\"middle\" x=\"263.5\" y=\"-134.4\" font-family=\"Times New Roman,serif\" font-size=\"12.00\">7.weight</text>\r\n<text text-anchor=\"middle\" x=\"263.5\" y=\"-121.4\" font-family=\"Times New Roman,serif\" font-size=\"12.00\"> (10, 200)</text>\r\n</g>\r\n<!-- 2371771577288&#45;&gt;2371769543816 -->\r\n<g id=\"edge13\" class=\"edge\"><title>2371771577288&#45;&gt;2371769543816</title>\r\n<path fill=\"none\" stroke=\"black\" d=\"M263.5,-113.842C263.5,-106.012 263.5,-96.5396 263.5,-88.2816\"/>\r\n<polygon fill=\"black\" stroke=\"black\" points=\"267,-88.0419 263.5,-78.0419 260,-88.0419 267,-88.0419\"/>\r\n</g>\r\n</g>\r\n</svg>\r\n",
      "text/plain": "<graphviz.dot.Digraph at 0x228387b28d0>"
     },
     "execution_count": 21,
     "metadata": {},
     "output_type": "execute_result"
    }
   ],
   "source": [
    "model = None\n",
    "###############################################################################\n",
    "#            TODO : Implement the Sequential API to complete the model        #\n",
    "###############################################################################          \n",
    "model = nn.Sequential(nn.Conv2d(3, 16, 3, stride=2, padding=0, dilation=1, groups=1, bias=False, padding_mode='zeros'),\n",
    "                      nn.ReLU(),\n",
    "                      nn.Conv2d(16, 32, 3, stride=2, padding=0, dilation=1, groups=1, bias=False, padding_mode='zeros'),\n",
    "                      nn.ReLU(),\n",
    "                      Flatten(),\n",
    "                      nn.Linear(1568, 200, bias=False),\n",
    "                      nn.ReLU(),\n",
    "                      nn.Linear(200, 10, bias=False)\n",
    "                      )\n",
    "###############################################################################\n",
    "#                            END TO DO                                        #\n",
    "###############################################################################  \n",
    "\n",
    "\n",
    "x = torch.zeros((BATCH_SIZE, 3, 32, 32))\n",
    "make_dot(model(x), params=dict(model.named_parameters())) # You can check if the picture is the same \n",
    "                                                          # as previous picture"
   ]
  },
  {
   "cell_type": "markdown",
   "metadata": {},
   "source": [
    "### Train the model\n",
    "Train the model and check the accuracy of training dataset and validation set"
   ]
  },
  {
   "cell_type": "code",
   "execution_count": 22,
   "metadata": {},
   "outputs": [
    {
     "name": "stdout",
     "output_type": "stream",
     "text": "---------------- Epoch 0 ----------------\n[  1/5] Training Step 000 Loss 2.298 Acc 0.094\n[  1/5] Training Step 100 Loss 2.233 Acc 0.141\n[  1/5] Training Step 200 Loss 2.192 Acc 0.203\n[  1/5] Training Step 300 Loss 2.021 Acc 0.203\n[  1/5] Training Step 400 Loss 1.992 Acc 0.328\n[  1/5] Training Step 500 Loss 1.974 Acc 0.219\n[  1/5] Training Step 600 Loss 1.859 Acc 0.266\n[  1/5] Training Step 700 Loss 1.908 Acc 0.297\n[  1/5] Validate Step 015 Loss 1.854 Acc 0.348\n---------------- Epoch 1 ----------------\n[  2/5] Training Step 000 Loss 1.874 Acc 0.266\n[  2/5] Training Step 100 Loss 1.845 Acc 0.344\n[  2/5] Training Step 200 Loss 1.710 Acc 0.359\n[  2/5] Training Step 300 Loss 1.634 Acc 0.438\n[  2/5] Training Step 400 Loss 1.786 Acc 0.297\n[  2/5] Training Step 500 Loss 1.703 Acc 0.391\n[  2/5] Training Step 600 Loss 1.626 Acc 0.422\n[  2/5] Training Step 700 Loss 1.568 Acc 0.484\n[  2/5] Validate Step 015 Loss 1.676 Acc 0.422\n---------------- Epoch 2 ----------------\n[  3/5] Training Step 000 Loss 1.658 Acc 0.328\n[  3/5] Training Step 100 Loss 1.699 Acc 0.406\n[  3/5] Training Step 200 Loss 1.709 Acc 0.406\n[  3/5] Training Step 300 Loss 1.507 Acc 0.422\n[  3/5] Training Step 400 Loss 1.661 Acc 0.328\n[  3/5] Training Step 500 Loss 1.604 Acc 0.344\n[  3/5] Training Step 600 Loss 1.543 Acc 0.516\n[  3/5] Training Step 700 Loss 1.577 Acc 0.484\n[  3/5] Validate Step 015 Loss 1.562 Acc 0.461\n---------------- Epoch 3 ----------------\n[  4/5] Training Step 000 Loss 1.363 Acc 0.516\n[  4/5] Training Step 100 Loss 1.405 Acc 0.500\n[  4/5] Training Step 200 Loss 1.413 Acc 0.531\n[  4/5] Training Step 300 Loss 1.454 Acc 0.484\n[  4/5] Training Step 400 Loss 1.358 Acc 0.484\n[  4/5] Training Step 500 Loss 1.485 Acc 0.469\n[  4/5] Training Step 600 Loss 1.683 Acc 0.422\n[  4/5] Training Step 700 Loss 1.236 Acc 0.562\n[  4/5] Validate Step 015 Loss 1.443 Acc 0.489\n---------------- Epoch 4 ----------------\n[  5/5] Training Step 000 Loss 1.337 Acc 0.625\n[  5/5] Training Step 100 Loss 1.137 Acc 0.594\n[  5/5] Training Step 200 Loss 1.434 Acc 0.531\n[  5/5] Training Step 300 Loss 1.241 Acc 0.562\n[  5/5] Training Step 400 Loss 1.437 Acc 0.500\n[  5/5] Training Step 500 Loss 1.515 Acc 0.438\n[  5/5] Training Step 600 Loss 1.409 Acc 0.484\n[  5/5] Training Step 700 Loss 1.401 Acc 0.531\n[  5/5] Validate Step 015 Loss 1.377 Acc 0.526\n---------------- Testing ----------------\n[  1/5] Testing Step 156 Loss 1.372 Acc 0.516\n"
    }
   ],
   "source": [
    "criterion = nn.CrossEntropyLoss()\n",
    "optimizer = torch.optim.SGD(params=model.parameters(),lr=1e-3, momentum=0.9)\n",
    "trainer = Trainer(criterion, optimizer, device)\n",
    "trainer.train_loop(model, train_loader, val_loader)\n",
    "trainer.test(model, test_loader)"
   ]
  },
  {
   "cell_type": "markdown",
   "metadata": {},
   "source": [
    "## Part 5 CIFAR-10 open-ended challenge\n",
    "In this section, you can experiment with whatever ConvNet architecture you'd like on CIFAR-10\n",
    "### Baseline : 65% on Testing data!!!"
   ]
  },
  {
   "cell_type": "code",
   "execution_count": 23,
   "metadata": {},
   "outputs": [
    {
     "data": {
      "image/svg+xml": "<?xml version=\"1.0\" encoding=\"UTF-8\" standalone=\"no\"?>\r\n<!DOCTYPE svg PUBLIC \"-//W3C//DTD SVG 1.1//EN\"\r\n \"http://www.w3.org/Graphics/SVG/1.1/DTD/svg11.dtd\">\r\n<!-- Generated by graphviz version 2.38.0 (20140413.2041)\r\n -->\r\n<!-- Title: %3 Pages: 1 -->\r\n<svg width=\"385pt\" height=\"550pt\"\r\n viewBox=\"0.00 0.00 385.00 550.00\" xmlns=\"http://www.w3.org/2000/svg\" xmlns:xlink=\"http://www.w3.org/1999/xlink\">\r\n<g id=\"graph0\" class=\"graph\" transform=\"scale(1 1) rotate(0) translate(4 546)\">\r\n<title>%3</title>\r\n<polygon fill=\"white\" stroke=\"none\" points=\"-4,4 -4,-546 381,-546 381,4 -4,4\"/>\r\n<!-- 2371769543424 -->\r\n<g id=\"node1\" class=\"node\"><title>2371769543424</title>\r\n<polygon fill=\"#caff70\" stroke=\"black\" points=\"333,-21 250,-21 250,-0 333,-0 333,-21\"/>\r\n<text text-anchor=\"middle\" x=\"291.5\" y=\"-7.4\" font-family=\"Times New Roman,serif\" font-size=\"12.00\">MmBackward</text>\r\n</g>\r\n<!-- 2371769543536 -->\r\n<g id=\"node2\" class=\"node\"><title>2371769543536</title>\r\n<polygon fill=\"lightgrey\" stroke=\"black\" points=\"287.5,-78 197.5,-78 197.5,-57 287.5,-57 287.5,-78\"/>\r\n<text text-anchor=\"middle\" x=\"242.5\" y=\"-64.4\" font-family=\"Times New Roman,serif\" font-size=\"12.00\">ReluBackward0</text>\r\n</g>\r\n<!-- 2371769543536&#45;&gt;2371769543424 -->\r\n<g id=\"edge1\" class=\"edge\"><title>2371769543536&#45;&gt;2371769543424</title>\r\n<path fill=\"none\" stroke=\"black\" d=\"M251.035,-56.9197C257.906,-49.2072 267.745,-38.1639 276,-28.8978\"/>\r\n<polygon fill=\"black\" stroke=\"black\" points=\"278.694,-31.1357 282.733,-21.3408 273.467,-26.4792 278.694,-31.1357\"/>\r\n</g>\r\n<!-- 2371591164760 -->\r\n<g id=\"node3\" class=\"node\"><title>2371591164760</title>\r\n<polygon fill=\"lightgrey\" stroke=\"black\" points=\"284,-141.5 201,-141.5 201,-120.5 284,-120.5 284,-141.5\"/>\r\n<text text-anchor=\"middle\" x=\"242.5\" y=\"-127.9\" font-family=\"Times New Roman,serif\" font-size=\"12.00\">MmBackward</text>\r\n</g>\r\n<!-- 2371591164760&#45;&gt;2371769543536 -->\r\n<g id=\"edge2\" class=\"edge\"><title>2371591164760&#45;&gt;2371769543536</title>\r\n<path fill=\"none\" stroke=\"black\" d=\"M242.5,-120.391C242.5,-111.866 242.5,-99.1392 242.5,-88.4235\"/>\r\n<polygon fill=\"black\" stroke=\"black\" points=\"246,-88.2448 242.5,-78.2449 239,-88.2449 246,-88.2448\"/>\r\n</g>\r\n<!-- 2371769784304 -->\r\n<g id=\"node4\" class=\"node\"><title>2371769784304</title>\r\n<polygon fill=\"lightgrey\" stroke=\"black\" points=\"237.5,-205 149.5,-205 149.5,-184 237.5,-184 237.5,-205\"/>\r\n<text text-anchor=\"middle\" x=\"193.5\" y=\"-191.4\" font-family=\"Times New Roman,serif\" font-size=\"12.00\">ViewBackward</text>\r\n</g>\r\n<!-- 2371769784304&#45;&gt;2371591164760 -->\r\n<g id=\"edge3\" class=\"edge\"><title>2371769784304&#45;&gt;2371591164760</title>\r\n<path fill=\"none\" stroke=\"black\" d=\"M201.156,-183.891C208.449,-174.738 219.601,-160.741 228.485,-149.59\"/>\r\n<polygon fill=\"black\" stroke=\"black\" points=\"231.242,-151.747 234.736,-141.745 225.767,-147.385 231.242,-151.747\"/>\r\n</g>\r\n<!-- 2371769782456 -->\r\n<g id=\"node5\" class=\"node\"><title>2371769782456</title>\r\n<polygon fill=\"lightgrey\" stroke=\"black\" points=\"269.5,-268.5 95.5,-268.5 95.5,-247.5 269.5,-247.5 269.5,-268.5\"/>\r\n<text text-anchor=\"middle\" x=\"182.5\" y=\"-254.9\" font-family=\"Times New Roman,serif\" font-size=\"12.00\">MaxPool2DWithIndicesBackward</text>\r\n</g>\r\n<!-- 2371769782456&#45;&gt;2371769784304 -->\r\n<g id=\"edge4\" class=\"edge\"><title>2371769782456&#45;&gt;2371769784304</title>\r\n<path fill=\"none\" stroke=\"black\" d=\"M184.219,-247.391C185.744,-238.866 188.02,-226.139 189.936,-215.423\"/>\r\n<polygon fill=\"black\" stroke=\"black\" points=\"193.442,-215.705 191.757,-205.245 186.551,-214.472 193.442,-215.705\"/>\r\n</g>\r\n<!-- 2371769783464 -->\r\n<g id=\"node6\" class=\"node\"><title>2371769783464</title>\r\n<polygon fill=\"lightgrey\" stroke=\"black\" points=\"245,-332 120,-332 120,-311 245,-311 245,-332\"/>\r\n<text text-anchor=\"middle\" x=\"182.5\" y=\"-318.4\" font-family=\"Times New Roman,serif\" font-size=\"12.00\">ThnnConv2DBackward</text>\r\n</g>\r\n<!-- 2371769783464&#45;&gt;2371769782456 -->\r\n<g id=\"edge5\" class=\"edge\"><title>2371769783464&#45;&gt;2371769782456</title>\r\n<path fill=\"none\" stroke=\"black\" d=\"M182.5,-310.891C182.5,-302.366 182.5,-289.639 182.5,-278.923\"/>\r\n<polygon fill=\"black\" stroke=\"black\" points=\"186,-278.745 182.5,-268.745 179,-278.745 186,-278.745\"/>\r\n</g>\r\n<!-- 2371769782792 -->\r\n<g id=\"node7\" class=\"node\"><title>2371769782792</title>\r\n<polygon fill=\"lightgrey\" stroke=\"black\" points=\"185,-395.5 60,-395.5 60,-374.5 185,-374.5 185,-395.5\"/>\r\n<text text-anchor=\"middle\" x=\"122.5\" y=\"-381.9\" font-family=\"Times New Roman,serif\" font-size=\"12.00\">ThnnConv2DBackward</text>\r\n</g>\r\n<!-- 2371769782792&#45;&gt;2371769783464 -->\r\n<g id=\"edge6\" class=\"edge\"><title>2371769782792&#45;&gt;2371769783464</title>\r\n<path fill=\"none\" stroke=\"black\" d=\"M131.875,-374.391C140.98,-365.058 154.997,-350.69 165.976,-339.437\"/>\r\n<polygon fill=\"black\" stroke=\"black\" points=\"168.515,-341.847 172.993,-332.245 163.504,-336.959 168.515,-341.847\"/>\r\n</g>\r\n<!-- 2371769785536 -->\r\n<g id=\"node8\" class=\"node\"><title>2371769785536</title>\r\n<polygon fill=\"lightgrey\" stroke=\"black\" points=\"125,-465.5 0,-465.5 0,-444.5 125,-444.5 125,-465.5\"/>\r\n<text text-anchor=\"middle\" x=\"62.5\" y=\"-451.9\" font-family=\"Times New Roman,serif\" font-size=\"12.00\">ThnnConv2DBackward</text>\r\n</g>\r\n<!-- 2371769785536&#45;&gt;2371769782792 -->\r\n<g id=\"edge7\" class=\"edge\"><title>2371769785536&#45;&gt;2371769782792</title>\r\n<path fill=\"none\" stroke=\"black\" d=\"M71.0965,-444.257C80.453,-433.653 95.6052,-416.481 107.04,-403.521\"/>\r\n<polygon fill=\"black\" stroke=\"black\" points=\"109.928,-405.539 113.919,-395.725 104.679,-400.907 109.928,-405.539\"/>\r\n</g>\r\n<!-- 2371769786096 -->\r\n<g id=\"node9\" class=\"node\"><title>2371769786096</title>\r\n<polygon fill=\"lightblue\" stroke=\"black\" points=\"100,-542 25,-542 25,-508 100,-508 100,-542\"/>\r\n<text text-anchor=\"middle\" x=\"62.5\" y=\"-528.4\" font-family=\"Times New Roman,serif\" font-size=\"12.00\">0.weight</text>\r\n<text text-anchor=\"middle\" x=\"62.5\" y=\"-515.4\" font-family=\"Times New Roman,serif\" font-size=\"12.00\"> (16, 3, 3, 3)</text>\r\n</g>\r\n<!-- 2371769786096&#45;&gt;2371769785536 -->\r\n<g id=\"edge8\" class=\"edge\"><title>2371769786096&#45;&gt;2371769785536</title>\r\n<path fill=\"none\" stroke=\"black\" d=\"M62.5,-507.885C62.5,-498.309 62.5,-486.088 62.5,-475.912\"/>\r\n<polygon fill=\"black\" stroke=\"black\" points=\"66.0001,-475.895 62.5,-465.895 59.0001,-475.895 66.0001,-475.895\"/>\r\n</g>\r\n<!-- 2371769785032 -->\r\n<g id=\"node10\" class=\"node\"><title>2371769785032</title>\r\n<polygon fill=\"lightblue\" stroke=\"black\" points=\"224,-472 143,-472 143,-438 224,-438 224,-472\"/>\r\n<text text-anchor=\"middle\" x=\"183.5\" y=\"-458.4\" font-family=\"Times New Roman,serif\" font-size=\"12.00\">1.weight</text>\r\n<text text-anchor=\"middle\" x=\"183.5\" y=\"-445.4\" font-family=\"Times New Roman,serif\" font-size=\"12.00\"> (32, 16, 3, 3)</text>\r\n</g>\r\n<!-- 2371769785032&#45;&gt;2371769782792 -->\r\n<g id=\"edge9\" class=\"edge\"><title>2371769785032&#45;&gt;2371769782792</title>\r\n<path fill=\"none\" stroke=\"black\" d=\"M169.044,-437.885C159.723,-427.494 147.607,-413.988 138.074,-403.361\"/>\r\n<polygon fill=\"black\" stroke=\"black\" points=\"140.659,-401.001 131.376,-395.895 135.448,-405.676 140.659,-401.001\"/>\r\n</g>\r\n<!-- 2371769783352 -->\r\n<g id=\"node11\" class=\"node\"><title>2371769783352</title>\r\n<polygon fill=\"lightblue\" stroke=\"black\" points=\"284,-402 203,-402 203,-368 284,-368 284,-402\"/>\r\n<text text-anchor=\"middle\" x=\"243.5\" y=\"-388.4\" font-family=\"Times New Roman,serif\" font-size=\"12.00\">2.weight</text>\r\n<text text-anchor=\"middle\" x=\"243.5\" y=\"-375.4\" font-family=\"Times New Roman,serif\" font-size=\"12.00\"> (64, 32, 3, 3)</text>\r\n</g>\r\n<!-- 2371769783352&#45;&gt;2371769783464 -->\r\n<g id=\"edge10\" class=\"edge\"><title>2371769783352&#45;&gt;2371769783464</title>\r\n<path fill=\"none\" stroke=\"black\" d=\"M227.473,-367.842C218.736,-359.033 207.937,-348.146 199.111,-339.247\"/>\r\n<polygon fill=\"black\" stroke=\"black\" points=\"201.491,-336.677 191.964,-332.042 196.522,-341.607 201.491,-336.677\"/>\r\n</g>\r\n<!-- 2371769784528 -->\r\n<g id=\"node12\" class=\"node\"><title>2371769784528</title>\r\n<polygon fill=\"lightgrey\" stroke=\"black\" points=\"349,-205 278,-205 278,-184 349,-184 349,-205\"/>\r\n<text text-anchor=\"middle\" x=\"313.5\" y=\"-191.4\" font-family=\"Times New Roman,serif\" font-size=\"12.00\">TBackward</text>\r\n</g>\r\n<!-- 2371769784528&#45;&gt;2371591164760 -->\r\n<g id=\"edge11\" class=\"edge\"><title>2371769784528&#45;&gt;2371591164760</title>\r\n<path fill=\"none\" stroke=\"black\" d=\"M302.406,-183.891C291.528,-174.468 274.725,-159.913 261.68,-148.614\"/>\r\n<polygon fill=\"black\" stroke=\"black\" points=\"263.6,-145.647 253.75,-141.745 259.017,-150.938 263.6,-145.647\"/>\r\n</g>\r\n<!-- 2371769640776 -->\r\n<g id=\"node13\" class=\"node\"><title>2371769640776</title>\r\n<polygon fill=\"lightblue\" stroke=\"black\" points=\"363,-275 288,-275 288,-241 363,-241 363,-275\"/>\r\n<text text-anchor=\"middle\" x=\"325.5\" y=\"-261.4\" font-family=\"Times New Roman,serif\" font-size=\"12.00\">5.weight</text>\r\n<text text-anchor=\"middle\" x=\"325.5\" y=\"-248.4\" font-family=\"Times New Roman,serif\" font-size=\"12.00\"> (256, 3136)</text>\r\n</g>\r\n<!-- 2371769640776&#45;&gt;2371769784528 -->\r\n<g id=\"edge12\" class=\"edge\"><title>2371769640776&#45;&gt;2371769784528</title>\r\n<path fill=\"none\" stroke=\"black\" d=\"M322.347,-240.842C320.802,-232.923 318.929,-223.324 317.305,-215.001\"/>\r\n<polygon fill=\"black\" stroke=\"black\" points=\"320.712,-214.186 315.362,-205.042 313.842,-215.527 320.712,-214.186\"/>\r\n</g>\r\n<!-- 2371769544376 -->\r\n<g id=\"node14\" class=\"node\"><title>2371769544376</title>\r\n<polygon fill=\"lightgrey\" stroke=\"black\" points=\"377,-78 306,-78 306,-57 377,-57 377,-78\"/>\r\n<text text-anchor=\"middle\" x=\"341.5\" y=\"-64.4\" font-family=\"Times New Roman,serif\" font-size=\"12.00\">TBackward</text>\r\n</g>\r\n<!-- 2371769544376&#45;&gt;2371769543424 -->\r\n<g id=\"edge13\" class=\"edge\"><title>2371769544376&#45;&gt;2371769543424</title>\r\n<path fill=\"none\" stroke=\"black\" d=\"M332.791,-56.9197C325.779,-49.2072 315.74,-38.1639 307.316,-28.8978\"/>\r\n<polygon fill=\"black\" stroke=\"black\" points=\"309.763,-26.3859 300.446,-21.3408 304.583,-31.0946 309.763,-26.3859\"/>\r\n</g>\r\n<!-- 2371591166888 -->\r\n<g id=\"node15\" class=\"node\"><title>2371591166888</title>\r\n<polygon fill=\"lightblue\" stroke=\"black\" points=\"373,-148 310,-148 310,-114 373,-114 373,-148\"/>\r\n<text text-anchor=\"middle\" x=\"341.5\" y=\"-134.4\" font-family=\"Times New Roman,serif\" font-size=\"12.00\">7.weight</text>\r\n<text text-anchor=\"middle\" x=\"341.5\" y=\"-121.4\" font-family=\"Times New Roman,serif\" font-size=\"12.00\"> (10, 256)</text>\r\n</g>\r\n<!-- 2371591166888&#45;&gt;2371769544376 -->\r\n<g id=\"edge14\" class=\"edge\"><title>2371591166888&#45;&gt;2371769544376</title>\r\n<path fill=\"none\" stroke=\"black\" d=\"M341.5,-113.842C341.5,-106.012 341.5,-96.5396 341.5,-88.2816\"/>\r\n<polygon fill=\"black\" stroke=\"black\" points=\"345,-88.0419 341.5,-78.0419 338,-88.0419 345,-88.0419\"/>\r\n</g>\r\n</g>\r\n</svg>\r\n",
      "text/plain": "<graphviz.dot.Digraph at 0x22838796128>"
     },
     "execution_count": 23,
     "metadata": {},
     "output_type": "execute_result"
    }
   ],
   "source": [
    "model = None\n",
    "optimizer = None\n",
    "###############################################################################\n",
    "#                               TODO                                          #\n",
    "###############################################################################          \n",
    "model = nn.Sequential(nn.Conv2d(3, 16, 3, stride=1, padding=0, dilation=1, groups=1, bias=False, padding_mode='zeros'),\n",
    "                      nn.Conv2d(16, 32, 3, stride=1, padding=0, dilation=1, groups=1, bias=False, padding_mode='zeros'),\n",
    "                      nn.Conv2d(32, 64, 3, stride=2, padding=1, dilation=1, groups=1, bias=False, padding_mode='zeros'),\n",
    "                      nn.MaxPool2d(kernel_size=2, stride=2),\n",
    "                      Flatten(),\n",
    "                      nn.Linear(3136, 256, bias=False),\n",
    "                      nn.ReLU(),\n",
    "                      nn.Linear(256, 10, bias=False)\n",
    "                      )\n",
    "###############################################################################\n",
    "#                            END TO DO                                        #\n",
    "###############################################################################  \n",
    "x = torch.zeros((BATCH_SIZE, 3, 32, 32))\n",
    "make_dot(model(x), params=dict(model.named_parameters())) # You can check if the picture is the same \n",
    "                                                          # as previous picture"
   ]
  },
  {
   "cell_type": "code",
   "execution_count": 24,
   "metadata": {},
   "outputs": [
    {
     "name": "stdout",
     "output_type": "stream",
     "text": "---------------- Epoch 0 ----------------\n[  1/5] Training Step 000 Loss 2.313 Acc 0.141\n[  1/5] Training Step 100 Loss 1.622 Acc 0.422\n[  1/5] Training Step 200 Loss 1.264 Acc 0.625\n[  1/5] Training Step 300 Loss 1.378 Acc 0.516\n[  1/5] Training Step 400 Loss 1.193 Acc 0.609\n[  1/5] Training Step 500 Loss 1.183 Acc 0.641\n[  1/5] Training Step 600 Loss 1.350 Acc 0.531\n[  1/5] Training Step 700 Loss 1.275 Acc 0.594\n[  1/5] Validate Step 015 Loss 1.096 Acc 0.629\n---------------- Epoch 1 ----------------\n[  2/5] Training Step 000 Loss 0.968 Acc 0.656\n[  2/5] Training Step 100 Loss 1.172 Acc 0.562\n[  2/5] Training Step 200 Loss 1.001 Acc 0.750\n[  2/5] Training Step 300 Loss 0.920 Acc 0.750\n[  2/5] Training Step 400 Loss 0.906 Acc 0.703\n[  2/5] Training Step 500 Loss 0.905 Acc 0.703\n[  2/5] Training Step 600 Loss 0.974 Acc 0.641\n[  2/5] Training Step 700 Loss 0.997 Acc 0.656\n[  2/5] Validate Step 015 Loss 1.053 Acc 0.658\n---------------- Epoch 2 ----------------\n[  3/5] Training Step 000 Loss 0.557 Acc 0.812\n[  3/5] Training Step 100 Loss 0.753 Acc 0.703\n[  3/5] Training Step 200 Loss 0.736 Acc 0.766\n[  3/5] Training Step 300 Loss 0.825 Acc 0.766\n[  3/5] Training Step 400 Loss 1.003 Acc 0.625\n[  3/5] Training Step 500 Loss 0.817 Acc 0.734\n[  3/5] Training Step 600 Loss 0.862 Acc 0.672\n[  3/5] Training Step 700 Loss 0.962 Acc 0.656\n[  3/5] Validate Step 015 Loss 0.978 Acc 0.665\n---------------- Epoch 3 ----------------\n[  4/5] Training Step 000 Loss 0.805 Acc 0.734\n[  4/5] Training Step 100 Loss 0.869 Acc 0.719\n[  4/5] Training Step 200 Loss 0.999 Acc 0.688\n[  4/5] Training Step 300 Loss 0.671 Acc 0.797\n[  4/5] Training Step 400 Loss 0.844 Acc 0.672\n[  4/5] Training Step 500 Loss 1.056 Acc 0.594\n[  4/5] Training Step 600 Loss 0.725 Acc 0.781\n[  4/5] Training Step 700 Loss 0.968 Acc 0.641\n[  4/5] Validate Step 015 Loss 0.985 Acc 0.676\n---------------- Epoch 4 ----------------\n[  5/5] Training Step 000 Loss 0.543 Acc 0.812\n[  5/5] Training Step 100 Loss 0.745 Acc 0.688\n[  5/5] Training Step 200 Loss 0.392 Acc 0.875\n[  5/5] Training Step 300 Loss 0.679 Acc 0.734\n[  5/5] Training Step 400 Loss 0.521 Acc 0.797\n[  5/5] Training Step 500 Loss 0.417 Acc 0.844\n[  5/5] Training Step 600 Loss 0.644 Acc 0.766\n[  5/5] Training Step 700 Loss 0.934 Acc 0.656\n[  5/5] Validate Step 015 Loss 1.095 Acc 0.676\n---------------- Testing ----------------\n[  1/5] Testing Step 156 Loss 1.012 Acc 0.686\n"
    }
   ],
   "source": [
    "criterion = nn.CrossEntropyLoss()\n",
    "optimizer = torch.optim.Adam(params=model.parameters(), lr=1e-3, betas=(0.9, 0.999), eps=1e-08, weight_decay=0)\n",
    "trainer = Trainer(criterion, optimizer, device)\n",
    "trainer.train_loop(model, train_loader, val_loader)\n",
    "trainer.test(model, test_loader)"
   ]
  },
  {
   "cell_type": "markdown",
   "metadata": {},
   "source": [
    "\n",
    "### 請解釋你如何建構的"
   ]
  },
  {
   "cell_type": "markdown",
   "metadata": {},
   "source": [
    "在做Convolution 時，我使用了三層的layer，每一層的channel 數量漸增，\n",
    "\n",
    "希望能夠提取出個別資料的特徵，最後在使用MaxPool 取出最大值做為參考\n",
    "\n",
    "而在做Convolution 時應該不需要做那麼多次ReLU，因此我把它全刪了\n",
    "\n",
    "之後的Full connected network 我只做兩層，channel 是配合前面產生的結果調整的，\n",
    "\n",
    "做一次ReLU 再連接輸出結果效果看起來蠻好的，所以就這樣了\n",
    "\n",
    "過程中嘗試過許多不同種類的建構方式，但準確率都落在0.5~0.6 之間，後來調整成現在這樣倒是感覺不錯。\n",
    "\n",
    "準確率有顯著提升\n",
    "\n",
    "----\n",
    "\n",
    "而Pytorch 當中有很多不同種的優化器，其中SGD 是需要花最長時間的\n",
    "\n",
    "為了加速訓練，優化器改用Adam 會比較合適\n",
    "\n",
    "相較於SGD，Adam考量了:\n",
    "\n",
    "1.momentum (更新參數時加速收斂用並讓曲線更平滑)\n",
    "\n",
    "2.adagrad (減少往錯誤方向的機會)\n",
    "\n",
    "在大多數狀況下Adam 的效果會比較好。"
   ]
  }
 ],
 "metadata": {
  "kernelspec": {
   "display_name": "Python 3",
   "language": "python",
   "name": "python3"
  },
  "language_info": {
   "codemirror_mode": {
    "name": "ipython",
    "version": 3
   },
   "file_extension": ".py",
   "mimetype": "text/x-python",
   "name": "python",
   "nbconvert_exporter": "python",
   "pygments_lexer": "ipython3",
   "version": "3.6.8"
  }
 },
 "nbformat": 4,
 "nbformat_minor": 2
}